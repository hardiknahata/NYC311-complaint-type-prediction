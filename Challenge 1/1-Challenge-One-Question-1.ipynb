{
  "cells": [
    {
      "cell_type": "markdown",
      "metadata": {
        "id": "B-t88bRGOiFq"
      },
      "source": [
        "## **Challenge One: Data Analysis**  \n",
        "**Question 1:  How many incidents were opened in each year (beginning with 2010)?**"
      ]
    },
    {
      "cell_type": "code",
      "execution_count": null,
      "metadata": {
        "colab": {
          "base_uri": "https://localhost:8080/"
        },
        "id": "xReC_7Zop3zk",
        "outputId": "c7671164-ab52-480a-d474-9dd8e7f434f9"
      },
      "outputs": [
        {
          "name": "stderr",
          "output_type": "stream",
          "text": [
            "/usr/local/lib/python3.7/dist-packages/psycopg2/__init__.py:144: UserWarning: The psycopg2 wheel package will be renamed from release 2.8; in order to keep installing from binary please use \"pip install psycopg2-binary\" instead. For details see: <http://initd.org/psycopg/docs/install.html#binary-install-from-pypi>.\n",
            "  \"\"\")\n"
          ]
        }
      ],
      "source": [
        "# Necessary imports for the operations\n",
        "\n",
        "# !pip install psycopg2-binary\n",
        "import pandas as pd\n",
        "import psycopg2\n",
        "import numpy as np\n",
        "import matplotlib.pyplot as plt\n",
        "%matplotlib inline\n",
        "plt.style.use('ggplot')\n",
        "import re\n",
        "from datetime import datetime"
      ]
    },
    {
      "cell_type": "code",
      "execution_count": null,
      "metadata": {
        "id": "cqMBwWqXp6t6"
      },
      "outputs": [],
      "source": [
        "# Function provided to access the Dataset from Redshift Database\n",
        "\n",
        "def query_db(query):\n",
        " '''\n",
        "    Runs sql query on 311 database and returns a pandas DataFrame.\n",
        "    Redshift is a data warehouse based on PostgreSQL, so syntax is mostly the same\n",
        "    '''\n",
        " host = 'interview-ds.ckgnwnm6pw4o.us-east-1.redshift.amazonaws.com'\n",
        " port = 5439\n",
        " db = 'interview'\n",
        " username = 'dsguest'\n",
        " password = 'nX9EFYUZ5Yu#0q'\n",
        " conn = psycopg2.connect(host=host, port=port, dbname=db, user=username, password=password)\n",
        " cur = conn.cursor()\n",
        " cur.execute(query)\n",
        " rows = cur.fetchall()\n",
        " rows = pd.DataFrame(rows)\n",
        " return rows"
      ]
    },
    {
      "cell_type": "markdown",
      "metadata": {
        "id": "Nw4cC6gk6FXp"
      },
      "source": [
        "# Querying from Database"
      ]
    },
    {
      "cell_type": "code",
      "execution_count": null,
      "metadata": {
        "id": "f1d9RQLePqBr"
      },
      "outputs": [],
      "source": [
        "# query to retrieve created_date column from the DB\n",
        "created_date_column = query_db(\"SELECT created_date FROM public.three_one_one;\")\n",
        "\n",
        "# Renaming the column of the Pandas Dataframe appropriately\n",
        "df = created_date_column.rename(columns={0: 'created_date'})"
      ]
    },
    {
      "cell_type": "markdown",
      "metadata": {
        "id": "zl9H-ZN_6NYH"
      },
      "source": [
        "# Data Cleaning"
      ]
    },
    {
      "cell_type": "code",
      "execution_count": null,
      "metadata": {
        "colab": {
          "base_uri": "https://localhost:8080/"
        },
        "id": "BGBrEjQyUL8y",
        "outputId": "ef9024bf-3f0a-4de7-85bb-c7c75e70a647"
      },
      "outputs": [
        {
          "data": {
            "text/plain": [
              "False"
            ]
          },
          "execution_count": 4,
          "metadata": {},
          "output_type": "execute_result"
        }
      ],
      "source": [
        "# Check if column contains any null values\n",
        "df['created_date'].isnull().values.any()"
      ]
    },
    {
      "cell_type": "code",
      "execution_count": null,
      "metadata": {
        "colab": {
          "base_uri": "https://localhost:8080/"
        },
        "id": "BrgD4lgKVeuP",
        "outputId": "83f9cb61-dc25-4860-873e-649d8c02d078"
      },
      "outputs": [
        {
          "data": {
            "text/plain": [
              "True"
            ]
          },
          "execution_count": 5,
          "metadata": {},
          "output_type": "execute_result"
        }
      ],
      "source": [
        "# Asserting that column contains all values of type: datetime\n",
        "type_check_result = df['created_date'].apply(lambda value: isinstance(value, datetime))\n",
        "\n",
        "# The all() function on a pandas dataframe returns True if all the values in the series are True\n",
        "type_check_result.all()"
      ]
    },
    {
      "cell_type": "markdown",
      "metadata": {
        "id": "NWX9rwxo6S_w"
      },
      "source": [
        "# Data Processing"
      ]
    },
    {
      "cell_type": "code",
      "execution_count": null,
      "metadata": {
        "colab": {
          "base_uri": "https://localhost:8080/",
          "height": 206
        },
        "id": "_djOqgI1Y9tb",
        "outputId": "656f043a-2fd6-49ba-928c-4a1bc3df142f"
      },
      "outputs": [
        {
          "data": {
            "text/html": [
              "\n",
              "  <div id=\"df-3125fcf2-2fcc-426c-a903-12743f8b8232\">\n",
              "    <div class=\"colab-df-container\">\n",
              "      <div>\n",
              "<style scoped>\n",
              "    .dataframe tbody tr th:only-of-type {\n",
              "        vertical-align: middle;\n",
              "    }\n",
              "\n",
              "    .dataframe tbody tr th {\n",
              "        vertical-align: top;\n",
              "    }\n",
              "\n",
              "    .dataframe thead th {\n",
              "        text-align: right;\n",
              "    }\n",
              "</style>\n",
              "<table border=\"1\" class=\"dataframe\">\n",
              "  <thead>\n",
              "    <tr style=\"text-align: right;\">\n",
              "      <th></th>\n",
              "      <th>created_date</th>\n",
              "      <th>year</th>\n",
              "    </tr>\n",
              "  </thead>\n",
              "  <tbody>\n",
              "    <tr>\n",
              "      <th>0</th>\n",
              "      <td>2010-01-01</td>\n",
              "      <td>2010</td>\n",
              "    </tr>\n",
              "    <tr>\n",
              "      <th>1</th>\n",
              "      <td>2010-01-01</td>\n",
              "      <td>2010</td>\n",
              "    </tr>\n",
              "    <tr>\n",
              "      <th>2</th>\n",
              "      <td>2010-01-01</td>\n",
              "      <td>2010</td>\n",
              "    </tr>\n",
              "    <tr>\n",
              "      <th>3</th>\n",
              "      <td>2010-01-01</td>\n",
              "      <td>2010</td>\n",
              "    </tr>\n",
              "    <tr>\n",
              "      <th>4</th>\n",
              "      <td>2010-01-01</td>\n",
              "      <td>2010</td>\n",
              "    </tr>\n",
              "  </tbody>\n",
              "</table>\n",
              "</div>\n",
              "      <button class=\"colab-df-convert\" onclick=\"convertToInteractive('df-3125fcf2-2fcc-426c-a903-12743f8b8232')\"\n",
              "              title=\"Convert this dataframe to an interactive table.\"\n",
              "              style=\"display:none;\">\n",
              "        \n",
              "  <svg xmlns=\"http://www.w3.org/2000/svg\" height=\"24px\"viewBox=\"0 0 24 24\"\n",
              "       width=\"24px\">\n",
              "    <path d=\"M0 0h24v24H0V0z\" fill=\"none\"/>\n",
              "    <path d=\"M18.56 5.44l.94 2.06.94-2.06 2.06-.94-2.06-.94-.94-2.06-.94 2.06-2.06.94zm-11 1L8.5 8.5l.94-2.06 2.06-.94-2.06-.94L8.5 2.5l-.94 2.06-2.06.94zm10 10l.94 2.06.94-2.06 2.06-.94-2.06-.94-.94-2.06-.94 2.06-2.06.94z\"/><path d=\"M17.41 7.96l-1.37-1.37c-.4-.4-.92-.59-1.43-.59-.52 0-1.04.2-1.43.59L10.3 9.45l-7.72 7.72c-.78.78-.78 2.05 0 2.83L4 21.41c.39.39.9.59 1.41.59.51 0 1.02-.2 1.41-.59l7.78-7.78 2.81-2.81c.8-.78.8-2.07 0-2.86zM5.41 20L4 18.59l7.72-7.72 1.47 1.35L5.41 20z\"/>\n",
              "  </svg>\n",
              "      </button>\n",
              "      \n",
              "  <style>\n",
              "    .colab-df-container {\n",
              "      display:flex;\n",
              "      flex-wrap:wrap;\n",
              "      gap: 12px;\n",
              "    }\n",
              "\n",
              "    .colab-df-convert {\n",
              "      background-color: #E8F0FE;\n",
              "      border: none;\n",
              "      border-radius: 50%;\n",
              "      cursor: pointer;\n",
              "      display: none;\n",
              "      fill: #1967D2;\n",
              "      height: 32px;\n",
              "      padding: 0 0 0 0;\n",
              "      width: 32px;\n",
              "    }\n",
              "\n",
              "    .colab-df-convert:hover {\n",
              "      background-color: #E2EBFA;\n",
              "      box-shadow: 0px 1px 2px rgba(60, 64, 67, 0.3), 0px 1px 3px 1px rgba(60, 64, 67, 0.15);\n",
              "      fill: #174EA6;\n",
              "    }\n",
              "\n",
              "    [theme=dark] .colab-df-convert {\n",
              "      background-color: #3B4455;\n",
              "      fill: #D2E3FC;\n",
              "    }\n",
              "\n",
              "    [theme=dark] .colab-df-convert:hover {\n",
              "      background-color: #434B5C;\n",
              "      box-shadow: 0px 1px 3px 1px rgba(0, 0, 0, 0.15);\n",
              "      filter: drop-shadow(0px 1px 2px rgba(0, 0, 0, 0.3));\n",
              "      fill: #FFFFFF;\n",
              "    }\n",
              "  </style>\n",
              "\n",
              "      <script>\n",
              "        const buttonEl =\n",
              "          document.querySelector('#df-3125fcf2-2fcc-426c-a903-12743f8b8232 button.colab-df-convert');\n",
              "        buttonEl.style.display =\n",
              "          google.colab.kernel.accessAllowed ? 'block' : 'none';\n",
              "\n",
              "        async function convertToInteractive(key) {\n",
              "          const element = document.querySelector('#df-3125fcf2-2fcc-426c-a903-12743f8b8232');\n",
              "          const dataTable =\n",
              "            await google.colab.kernel.invokeFunction('convertToInteractive',\n",
              "                                                     [key], {});\n",
              "          if (!dataTable) return;\n",
              "\n",
              "          const docLinkHtml = 'Like what you see? Visit the ' +\n",
              "            '<a target=\"_blank\" href=https://colab.research.google.com/notebooks/data_table.ipynb>data table notebook</a>'\n",
              "            + ' to learn more about interactive tables.';\n",
              "          element.innerHTML = '';\n",
              "          dataTable['output_type'] = 'display_data';\n",
              "          await google.colab.output.renderOutput(dataTable, element);\n",
              "          const docLink = document.createElement('div');\n",
              "          docLink.innerHTML = docLinkHtml;\n",
              "          element.appendChild(docLink);\n",
              "        }\n",
              "      </script>\n",
              "    </div>\n",
              "  </div>\n",
              "  "
            ],
            "text/plain": [
              "  created_date  year\n",
              "0   2010-01-01  2010\n",
              "1   2010-01-01  2010\n",
              "2   2010-01-01  2010\n",
              "3   2010-01-01  2010\n",
              "4   2010-01-01  2010"
            ]
          },
          "execution_count": 6,
          "metadata": {},
          "output_type": "execute_result"
        }
      ],
      "source": [
        "# Extracting year as a column from the given timestamps\n",
        "df['year'] = df['created_date'].apply(lambda x: pd.Timestamp(x).strftime('%Y'))\n",
        "df.head()"
      ]
    },
    {
      "cell_type": "code",
      "execution_count": null,
      "metadata": {
        "id": "M7oxkyJabvnD"
      },
      "outputs": [],
      "source": [
        "# Converting year column to Integer type\n",
        "df['year'] = df['year'].astype(str).astype(int)"
      ]
    },
    {
      "cell_type": "markdown",
      "metadata": {
        "id": "MDHcu5dc6bLg"
      },
      "source": [
        "# Data Visualization"
      ]
    },
    {
      "cell_type": "code",
      "execution_count": null,
      "metadata": {
        "id": "9GtZr8rTb9fy"
      },
      "outputs": [],
      "source": [
        "# Retreiving counts of each year and sorting them in order of year value (index)\n",
        "incident_value_counts = df['year'].value_counts().sort_index()\n",
        "\n",
        "year_values = incident_value_counts.index\n",
        "incidents_opened_count = incident_value_counts.values"
      ]
    },
    {
      "cell_type": "markdown",
      "metadata": {
        "id": "LHyMdiXz6qhn"
      },
      "source": [
        "Incidents opened in the New York City with the 311 Service per year are shown below :-"
      ]
    },
    {
      "cell_type": "code",
      "execution_count": null,
      "metadata": {
        "colab": {
          "base_uri": "https://localhost:8080/"
        },
        "id": "LxkJkMPT43tq",
        "outputId": "7207c434-625b-4b7b-b8da-27912ef8df9c"
      },
      "outputs": [
        {
          "name": "stdout",
          "output_type": "stream",
          "text": [
            "2010    2031813\n",
            "2011    1961598\n",
            "2012    1796207\n",
            "2013    1839974\n",
            "2014    2114000\n",
            "2015    2300760\n",
            "2016    2391426\n",
            "2017    2491969\n",
            "2018    2747985\n",
            "2019    1675384\n",
            "Name: year, dtype: int64\n"
          ]
        }
      ],
      "source": [
        "print(incident_value_counts)\n",
        "# YEAR - INCIDENTS OPENED"
      ]
    },
    {
      "cell_type": "markdown",
      "metadata": {
        "id": "vcNRh8le6-Wo"
      },
      "source": [
        "# Plotting a Bar Chart to Visualize the reported incidents each year, from 2010 to 2019"
      ]
    },
    {
      "cell_type": "code",
      "execution_count": null,
      "metadata": {
        "colab": {
          "base_uri": "https://localhost:8080/",
          "height": 293
        },
        "id": "vRd42vHEyPrK",
        "outputId": "1894002f-50cb-484d-9bc9-8fdb28f4def5"
      },
      "outputs": [
        {
          "data": {
            "image/png": "[encoded data removed]",
            "text/plain": [
              "<Figure size 432x288 with 1 Axes>"
            ]
          },
          "metadata": {
            "needs_background": "light"
          },
          "output_type": "display_data"
        }
      ],
      "source": [
        "# Plotting properties\n",
        "plt.rcParams[\"font.weight\"] = \"bold\"\n",
        "plt.rcParams[\"axes.labelweight\"] = \"bold\"\n",
        "fig, ax = plt.subplots()\n",
        "\n",
        "# Formatting the x-axis\n",
        "plt.xticks(np.arange(min(year_values), max(year_values)+1, 1.0))\n",
        "plt.xlabel('Year', fontsize=13, fontweight='bold')\n",
        "ax.xaxis.label.set_color('blue')\n",
        "ax.xaxis.set_tick_params(labelsize = 10, labelcolor = 'black')\n",
        "\n",
        "# Formatting the y-axis\n",
        "plt.yticks(np.arange(0, max(incidents_opened_count)+1, 250000))\n",
        "plt.ylabel('Incidents Opened in Million', fontsize=13, fontweight='bold')\n",
        "ax.yaxis.label.set_color('blue')\n",
        "ax.yaxis.set_tick_params(labelsize = 12, labelcolor = 'black')\n",
        "\n",
        "# Plotting the Line Chart\n",
        "ax.bar(year_values, incidents_opened_count, color = 'blue')\n",
        "plt.show()"
      ]
    },
    {
      "cell_type": "markdown",
      "metadata": {
        "id": "PKi3AXyy7HHg"
      },
      "source": [
        "# Plotting a Line Chart to Visualize the Trend of reported incidents from 2010 to 2019"
      ]
    },
    {
      "cell_type": "code",
      "execution_count": null,
      "metadata": {
        "colab": {
          "base_uri": "https://localhost:8080/",
          "height": 293
        },
        "id": "a1Ooomahc1i2",
        "outputId": "2c163630-0ce7-45dd-c209-850c8d01cde8"
      },
      "outputs": [
        {
          "data": {
            "image/png": "[encoded data removed]",
            "text/plain": [
              "<Figure size 432x288 with 1 Axes>"
            ]
          },
          "metadata": {
            "needs_background": "light"
          },
          "output_type": "display_data"
        }
      ],
      "source": [
        "# Plotting properties\n",
        "plt.rcParams[\"font.weight\"] = \"bold\"\n",
        "plt.rcParams[\"axes.labelweight\"] = \"bold\"\n",
        "fig, ax = plt.subplots()\n",
        "\n",
        "# Formatting the x-axis\n",
        "plt.xticks(np.arange(min(year_values), max(year_values)+1, 1.0))\n",
        "plt.xlabel('Year', fontsize=13, fontweight='bold')\n",
        "ax.xaxis.label.set_color('blue')\n",
        "ax.xaxis.set_tick_params(labelsize = 11, labelcolor = 'black')\n",
        "\n",
        "# Formatting the y-axis\n",
        "plt.yticks(np.arange(0, max(incidents_opened_count)+1, 100000))\n",
        "plt.ylabel('Incidents Opened in Million', fontsize=13, fontweight='bold')\n",
        "ax.yaxis.label.set_color('blue')\n",
        "ax.yaxis.set_tick_params(labelsize = 12, labelcolor = 'black')\n",
        "\n",
        "# Plotting the Line Chart\n",
        "ax.plot(year_values, incidents_opened_count, color = 'blue')\n",
        "plt.show()"
      ]
    },
    {
      "cell_type": "markdown",
      "metadata": {
        "id": "cH6zIgJn7c0H"
      },
      "source": [
        "It is evident from the chart above that the incidents opened **dropped from 2010 to 2012**.  \n",
        "A **steady increase** in reported incidents was observed from **2012 to 2018**.   \n",
        "**Most** number of incidents were opened in **2018**.  \n",
        "A **sudden downfall** of reported incidents was seen from 2018 to 2019."
      ]
    }
  ],
  "metadata": {
    "colab": {
      "collapsed_sections": [],
      "name": "Ezoic-Challenge-One-Question-1.ipynb",
      "provenance": []
    },
    "kernelspec": {
      "display_name": "Python 3",
      "name": "python3"
    },
    "language_info": {
      "name": "python"
    }
  },
  "nbformat": 4,
  "nbformat_minor": 0
}
