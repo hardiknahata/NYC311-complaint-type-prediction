{
  "cells": [
    {
      "cell_type": "markdown",
      "metadata": {
        "id": "kh-BouL2OKrk"
      },
      "source": [
        "## **Challenge One: Data Analysis**  \n",
        "**Question 2:  Which borough has the most incidents?**"
      ]
    },
    {
      "cell_type": "code",
      "execution_count": null,
      "metadata": {
        "id": "POZzxAU4_2im"
      },
      "outputs": [],
      "source": [
        "# Necessary imports for the operations\n",
        "\n",
        "# !pip install psycopg2-binary\n",
        "import re\n",
        "import pandas as pd\n",
        "import psycopg2\n",
        "import numpy as np\n",
        "import matplotlib.pyplot as plt\n",
        "%matplotlib inline\n",
        "plt.style.use('ggplot')"
      ]
    },
    {
      "cell_type": "code",
      "execution_count": null,
      "metadata": {
        "id": "esGxinBTDev4"
      },
      "outputs": [],
      "source": [
        "# Function provided to access the Dataset from Redshift Database\n",
        "\n",
        "def query_db(query):\n",
        " '''\n",
        "    Runs sql query on 311 database and returns a pandas DataFrame.\n",
        "    Redshift is a data warehouse based on PostgreSQL, so syntax is mostly the same\n",
        "    '''\n",
        " host = 'interview-ds.ckgnwnm6pw4o.us-east-1.redshift.amazonaws.com'\n",
        " port = 5439\n",
        " db = 'interview'\n",
        " username = 'dsguest'\n",
        " password = 'nX9EFYUZ5Yu#0q'\n",
        " conn = psycopg2.connect(host=host, port=port, dbname=db, user=username, password=password)\n",
        " cur = conn.cursor()\n",
        " cur.execute(query)\n",
        " rows = cur.fetchall()\n",
        " rows = pd.DataFrame(rows)\n",
        " return rows"
      ]
    },
    {
      "cell_type": "markdown",
      "metadata": {
        "id": "9K-vShlQrIiY"
      },
      "source": [
        "# **APPROACH 1: DIRECTLY QUERYING THE REQUIRED RESULT FROM DB**\n"
      ]
    },
    {
      "cell_type": "markdown",
      "metadata": {
        "id": "RJwjpcBh8euo"
      },
      "source": [
        "# Querying from Database"
      ]
    },
    {
      "cell_type": "code",
      "execution_count": null,
      "metadata": {
        "colab": {
          "base_uri": "https://localhost:8080/"
        },
        "id": "gCXdefi3sT__",
        "outputId": "dfda8056-3d56-4e60-dbb3-2520689f1ebd"
      },
      "outputs": [
        {
          "name": "stdout",
          "output_type": "stream",
          "text": [
            "               0        1\n",
            "0       BROOKLYN  6342836\n",
            "1         QUEENS  4865070\n",
            "2      MANHATTAN  4134900\n",
            "3          BRONX  3718699\n",
            "4    Unspecified  1218678\n",
            "5  STATEN ISLAND  1070930\n",
            "6                       3\n"
          ]
        }
      ],
      "source": [
        "# query to retrieve unique borough column value counts in descending order  \n",
        "query = '''SELECT borough, COUNT(*) as cnt\n",
        "  FROM public.three_one_one\n",
        " GROUP BY borough\n",
        " ORDER BY cnt DESC'''\n",
        "\n",
        "print(query_db(query))"
      ]
    },
    {
      "cell_type": "markdown",
      "metadata": {
        "id": "7x7o1pPJtJ_G"
      },
      "source": [
        "From above returned result we can conclude that **'BROOKLYN'** Borough had the most incidents reported.\n",
        "\n",
        "Please note that there are more than 1.2 Million **'Unspecified'** entries in the Boroughs column. But consider the case if all these unspecified values belonged to any one of the other borough apart from Brookyln, the total count of the incidents in Brooklyn would still remain the highest.\n",
        "\n",
        "\n",
        "\n"
      ]
    },
    {
      "cell_type": "markdown",
      "metadata": {
        "id": "FJUjHMeDuZ4X"
      },
      "source": [
        "\n",
        "\n",
        "---\n",
        "\n",
        "\n",
        "\n",
        "---\n",
        "\n"
      ]
    },
    {
      "cell_type": "markdown",
      "metadata": {
        "id": "YH37J6Jzs5WG"
      },
      "source": [
        "# **APPROACH 2: QUERYING REQUIRED COLUMN FROM DB AND ANALYZING WITH PANDAS/PYTHON WITH VISUALIZATION**"
      ]
    },
    {
      "cell_type": "markdown",
      "metadata": {
        "id": "dbdU7Jzu8owI"
      },
      "source": [
        "# Querying from Database"
      ]
    },
    {
      "cell_type": "code",
      "execution_count": null,
      "metadata": {
        "id": "0x-iSNzPI99W"
      },
      "outputs": [],
      "source": [
        "borough_column = query_db(\"SELECT borough FROM public.three_one_one;\")\n",
        "df_borough = borough_column"
      ]
    },
    {
      "cell_type": "markdown",
      "metadata": {
        "id": "zl9H-ZN_6NYH"
      },
      "source": [
        "# Data Cleaning"
      ]
    },
    {
      "cell_type": "code",
      "execution_count": null,
      "metadata": {
        "id": "O2XETXhjop8-"
      },
      "outputs": [],
      "source": [
        "# Replacing empty value with NaN\n",
        "df_borough.replace('', np.nan, inplace=True)\n",
        "\n",
        "# Dropping NaN values from the table\n",
        "df_borough.dropna(inplace=True)"
      ]
    },
    {
      "cell_type": "markdown",
      "metadata": {
        "id": "NWX9rwxo6S_w"
      },
      "source": [
        "# Data Processing"
      ]
    },
    {
      "cell_type": "code",
      "execution_count": null,
      "metadata": {
        "id": "3YeLSLNmoqMg"
      },
      "outputs": [],
      "source": [
        "# Retrieving occurence counts of each borough in non-ascending order\n",
        "borough_value_counts = df_borough.value_counts(ascending = False)\n",
        "\n",
        "# Converting Pandas Series to a Python dictionary \n",
        "borough_dict = borough_value_counts.to_dict()\n",
        "\n",
        "# Regex to remove everything apart from alphabets and spaces from keys\n",
        "alpha_regex = re.compile('[^a-zA-Z\\s]')\n",
        "\n",
        "# Filtering the dictionary and removing unnecessary characters\n",
        "filtered_borough_dict = {}\n",
        "for key, value in borough_dict.items():\n",
        "  filtered_key = alpha_regex.sub('', str(key))\n",
        "  filtered_key = filtered_key\n",
        "  filtered_borough_dict[filtered_key] = value"
      ]
    },
    {
      "cell_type": "markdown",
      "metadata": {
        "id": "MDHcu5dc6bLg"
      },
      "source": [
        "# Data Visualization"
      ]
    },
    {
      "cell_type": "code",
      "execution_count": null,
      "metadata": {
        "colab": {
          "base_uri": "https://localhost:8080/",
          "height": 319
        },
        "id": "cLV78WfNC6l6",
        "outputId": "2bc8803b-f574-415c-e50d-4f07d23572cd"
      },
      "outputs": [
        {
          "data": {
            "image/png": "[encoded data removed]",
            "text/plain": [
              "<Figure size 432x288 with 1 Axes>"
            ]
          },
          "metadata": {},
          "output_type": "display_data"
        }
      ],
      "source": [
        "borough_values = filtered_borough_dict.keys()\n",
        "incident_counts = filtered_borough_dict.values()\n",
        "\n",
        "# Plotting properties\n",
        "plt.rcParams[\"font.weight\"] = \"bold\"\n",
        "plt.rcParams[\"axes.labelweight\"] = \"bold\"\n",
        "fig, ax = plt.subplots()\n",
        "fig.autofmt_xdate()\n",
        "\n",
        "\n",
        "# Formatting the x-axis\n",
        "plt.xlabel(\"BOROUGHS\", fontsize=12, fontweight='bold')\n",
        "ax.xaxis.label.set_color('blue')\n",
        "ax.xaxis.set_tick_params(labelsize = 11, labelcolor = 'black')\n",
        "\n",
        "# Formatting the y-axis\n",
        "plt.ylabel(\"INCIDENTS IN MILLIONS\", fontsize=12, fontweight='bold')\n",
        "ax.yaxis.label.set_color('blue')\n",
        "ax.yaxis.set_tick_params(labelsize = 12, labelcolor = 'black')\n",
        "\n",
        "# Plotting the Bar Chart\n",
        "ax.bar(borough_values, incident_counts, color = 'blue')\n",
        "\n",
        "plt.show()"
      ]
    },
    {
      "cell_type": "markdown",
      "metadata": {
        "id": "O4NSOBuBIyUq"
      },
      "source": [
        "From above **Bar Chart**, we can visualize that the incidents reported in **'BROOKLYN'** were the highest.\n",
        "\n",
        "Please note that there are more than 1.2 Million **'Unspecified'** entries in the Boroughs column. But consider the case if all these unspecified values belonged to any one of the other borough apart from Brookyln, the total count of the incidents in Brooklyn would still remain the highest."
      ]
    }
  ],
  "metadata": {
    "colab": {
      "collapsed_sections": [],
      "name": "Ezoic-Challenge-One-Question-2.ipynb",
      "provenance": []
    },
    "kernelspec": {
      "display_name": "Python 3",
      "name": "python3"
    },
    "language_info": {
      "name": "python"
    }
  },
  "nbformat": 4,
  "nbformat_minor": 0
}
