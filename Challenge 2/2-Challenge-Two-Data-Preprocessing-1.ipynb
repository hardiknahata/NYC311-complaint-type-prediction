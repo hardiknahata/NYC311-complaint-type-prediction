{
  "cells": [
    {
      "cell_type": "markdown",
      "source": [
        "## **Challenge Two: Build a Data Product**  "
      ],
      "metadata": {
        "id": "olGNkYtJSbxw"
      }
    },
    {
      "cell_type": "markdown",
      "source": [
        "# Data Preprocesing - 1"
      ],
      "metadata": {
        "id": "X2SW9OaZSdSe"
      }
    },
    {
      "cell_type": "code",
      "execution_count": 2,
      "metadata": {
        "id": "G8aWHrarlASP"
      },
      "outputs": [],
      "source": [
        "# Imports required\n",
        "from tqdm import tqdm\n",
        "import pandas as pd\n",
        "import numpy as np\n",
        "import seaborn as sns\n",
        "import matplotlib.pyplot as plt\n",
        "import re\n",
        "import nltk\n",
        "from nltk.tokenize import word_tokenize\n",
        "from nltk.corpus import stopwords\n",
        "from nltk.stem.porter import PorterStemmer\n",
        "from sklearn import preprocessing"
      ]
    },
    {
      "cell_type": "code",
      "execution_count": 3,
      "metadata": {
        "colab": {
          "base_uri": "https://localhost:8080/"
        },
        "id": "lAlwjCR9lASR",
        "outputId": "d426fd48-e57e-4d14-b651-8a68f9f74455"
      },
      "outputs": [
        {
          "output_type": "stream",
          "name": "stdout",
          "text": [
            "[nltk_data] Downloading package stopwords to /root/nltk_data...\n",
            "[nltk_data]   Unzipping corpora/stopwords.zip.\n",
            "[nltk_data] Downloading package punkt to /root/nltk_data...\n",
            "[nltk_data]   Unzipping tokenizers/punkt.zip.\n"
          ]
        }
      ],
      "source": [
        "# Configuring import properties\n",
        "tqdm.pandas()\n",
        "pd.set_option(\"display.max_rows\", None, \"display.max_columns\", None)\n",
        "nltk.download('stopwords')\n",
        "nltk.download('punkt')\n",
        "porter = PorterStemmer()\n",
        "stop_words = set(stopwords.words('english'))"
      ]
    },
    {
      "cell_type": "code",
      "execution_count": 4,
      "metadata": {
        "colab": {
          "base_uri": "https://localhost:8080/"
        },
        "id": "ymTIM3-ZlAST",
        "outputId": "63307946-bbb3-4e7b-bb9d-e6505d3aed81"
      },
      "outputs": [
        {
          "output_type": "stream",
          "name": "stderr",
          "text": [
            "/usr/local/lib/python3.7/dist-packages/numpy/lib/arraysetops.py:580: FutureWarning: elementwise comparison failed; returning scalar instead, but in the future will perform elementwise comparison\n",
            "  mask |= (ar1 == a)\n"
          ]
        }
      ],
      "source": [
        "# Reading in the Merged CSV\n",
        "df = pd.read_csv('merged_311.csv', index_col=[0])"
      ]
    },
    {
      "cell_type": "code",
      "source": [
        "df.head()"
      ],
      "metadata": {
        "colab": {
          "base_uri": "https://localhost:8080/",
          "height": 206
        },
        "id": "B4k6GIzll33n",
        "outputId": "892baaa8-283d-48fb-ba5e-6f9286d7317d"
      },
      "execution_count": 5,
      "outputs": [
        {
          "output_type": "execute_result",
          "data": {
            "text/html": [
              "\n",
              "  <div id=\"df-b9fec74b-03f8-408d-b450-3962f8c95f41\">\n",
              "    <div class=\"colab-df-container\">\n",
              "      <div>\n",
              "<style scoped>\n",
              "    .dataframe tbody tr th:only-of-type {\n",
              "        vertical-align: middle;\n",
              "    }\n",
              "\n",
              "    .dataframe tbody tr th {\n",
              "        vertical-align: top;\n",
              "    }\n",
              "\n",
              "    .dataframe thead th {\n",
              "        text-align: right;\n",
              "    }\n",
              "</style>\n",
              "<table border=\"1\" class=\"dataframe\">\n",
              "  <thead>\n",
              "    <tr style=\"text-align: right;\">\n",
              "      <th></th>\n",
              "      <th>complaint_type</th>\n",
              "      <th>descriptor</th>\n",
              "    </tr>\n",
              "  </thead>\n",
              "  <tbody>\n",
              "    <tr>\n",
              "      <th>0</th>\n",
              "      <td>HEATING</td>\n",
              "      <td>HEAT</td>\n",
              "    </tr>\n",
              "    <tr>\n",
              "      <th>1</th>\n",
              "      <td>HEATING</td>\n",
              "      <td>HEAT</td>\n",
              "    </tr>\n",
              "    <tr>\n",
              "      <th>2</th>\n",
              "      <td>PLUMBING</td>\n",
              "      <td>SHOWER-STALL</td>\n",
              "    </tr>\n",
              "    <tr>\n",
              "      <th>3</th>\n",
              "      <td>PAINT</td>\n",
              "      <td>WALLS</td>\n",
              "    </tr>\n",
              "    <tr>\n",
              "      <th>4</th>\n",
              "      <td>PAINT</td>\n",
              "      <td>CEILING</td>\n",
              "    </tr>\n",
              "  </tbody>\n",
              "</table>\n",
              "</div>\n",
              "      <button class=\"colab-df-convert\" onclick=\"convertToInteractive('df-b9fec74b-03f8-408d-b450-3962f8c95f41')\"\n",
              "              title=\"Convert this dataframe to an interactive table.\"\n",
              "              style=\"display:none;\">\n",
              "        \n",
              "  <svg xmlns=\"http://www.w3.org/2000/svg\" height=\"24px\"viewBox=\"0 0 24 24\"\n",
              "       width=\"24px\">\n",
              "    <path d=\"M0 0h24v24H0V0z\" fill=\"none\"/>\n",
              "    <path d=\"M18.56 5.44l.94 2.06.94-2.06 2.06-.94-2.06-.94-.94-2.06-.94 2.06-2.06.94zm-11 1L8.5 8.5l.94-2.06 2.06-.94-2.06-.94L8.5 2.5l-.94 2.06-2.06.94zm10 10l.94 2.06.94-2.06 2.06-.94-2.06-.94-.94-2.06-.94 2.06-2.06.94z\"/><path d=\"M17.41 7.96l-1.37-1.37c-.4-.4-.92-.59-1.43-.59-.52 0-1.04.2-1.43.59L10.3 9.45l-7.72 7.72c-.78.78-.78 2.05 0 2.83L4 21.41c.39.39.9.59 1.41.59.51 0 1.02-.2 1.41-.59l7.78-7.78 2.81-2.81c.8-.78.8-2.07 0-2.86zM5.41 20L4 18.59l7.72-7.72 1.47 1.35L5.41 20z\"/>\n",
              "  </svg>\n",
              "      </button>\n",
              "      \n",
              "  <style>\n",
              "    .colab-df-container {\n",
              "      display:flex;\n",
              "      flex-wrap:wrap;\n",
              "      gap: 12px;\n",
              "    }\n",
              "\n",
              "    .colab-df-convert {\n",
              "      background-color: #E8F0FE;\n",
              "      border: none;\n",
              "      border-radius: 50%;\n",
              "      cursor: pointer;\n",
              "      display: none;\n",
              "      fill: #1967D2;\n",
              "      height: 32px;\n",
              "      padding: 0 0 0 0;\n",
              "      width: 32px;\n",
              "    }\n",
              "\n",
              "    .colab-df-convert:hover {\n",
              "      background-color: #E2EBFA;\n",
              "      box-shadow: 0px 1px 2px rgba(60, 64, 67, 0.3), 0px 1px 3px 1px rgba(60, 64, 67, 0.15);\n",
              "      fill: #174EA6;\n",
              "    }\n",
              "\n",
              "    [theme=dark] .colab-df-convert {\n",
              "      background-color: #3B4455;\n",
              "      fill: #D2E3FC;\n",
              "    }\n",
              "\n",
              "    [theme=dark] .colab-df-convert:hover {\n",
              "      background-color: #434B5C;\n",
              "      box-shadow: 0px 1px 3px 1px rgba(0, 0, 0, 0.15);\n",
              "      filter: drop-shadow(0px 1px 2px rgba(0, 0, 0, 0.3));\n",
              "      fill: #FFFFFF;\n",
              "    }\n",
              "  </style>\n",
              "\n",
              "      <script>\n",
              "        const buttonEl =\n",
              "          document.querySelector('#df-b9fec74b-03f8-408d-b450-3962f8c95f41 button.colab-df-convert');\n",
              "        buttonEl.style.display =\n",
              "          google.colab.kernel.accessAllowed ? 'block' : 'none';\n",
              "\n",
              "        async function convertToInteractive(key) {\n",
              "          const element = document.querySelector('#df-b9fec74b-03f8-408d-b450-3962f8c95f41');\n",
              "          const dataTable =\n",
              "            await google.colab.kernel.invokeFunction('convertToInteractive',\n",
              "                                                     [key], {});\n",
              "          if (!dataTable) return;\n",
              "\n",
              "          const docLinkHtml = 'Like what you see? Visit the ' +\n",
              "            '<a target=\"_blank\" href=https://colab.research.google.com/notebooks/data_table.ipynb>data table notebook</a>'\n",
              "            + ' to learn more about interactive tables.';\n",
              "          element.innerHTML = '';\n",
              "          dataTable['output_type'] = 'display_data';\n",
              "          await google.colab.output.renderOutput(dataTable, element);\n",
              "          const docLink = document.createElement('div');\n",
              "          docLink.innerHTML = docLinkHtml;\n",
              "          element.appendChild(docLink);\n",
              "        }\n",
              "      </script>\n",
              "    </div>\n",
              "  </div>\n",
              "  "
            ],
            "text/plain": [
              "  complaint_type    descriptor\n",
              "0        HEATING          HEAT\n",
              "1        HEATING          HEAT\n",
              "2       PLUMBING  SHOWER-STALL\n",
              "3          PAINT         WALLS\n",
              "4          PAINT       CEILING"
            ]
          },
          "metadata": {},
          "execution_count": 5
        }
      ]
    },
    {
      "cell_type": "markdown",
      "source": [
        "# Text Preprocessing\n",
        "\n",
        "Text Preprocessing involves cleaning the training text data for the model. This is an important step of the pipeline as it helps improve prediction accuracy."
      ],
      "metadata": {
        "id": "uLDN1kDel6u-"
      }
    },
    {
      "cell_type": "code",
      "execution_count": 6,
      "metadata": {
        "id": "_cWjez34lASU"
      },
      "outputs": [],
      "source": [
        "# Converting descriptor column to string type\n",
        "df['descriptor'] = df['descriptor'].astype(str)"
      ]
    },
    {
      "cell_type": "code",
      "execution_count": 7,
      "metadata": {
        "id": "rjgCfK0YlASU"
      },
      "outputs": [],
      "source": [
        "# Converting descriptor column values to lowercase\n",
        "df['descriptor'] = df['descriptor'].str.lower()"
      ]
    },
    {
      "cell_type": "code",
      "execution_count": 8,
      "metadata": {
        "colab": {
          "base_uri": "https://localhost:8080/"
        },
        "id": "er2fGrPqlASV",
        "outputId": "2de6ac97-0e6a-424b-a3e7-94bb3a599355"
      },
      "outputs": [
        {
          "output_type": "execute_result",
          "data": {
            "text/plain": [
              "1094"
            ]
          },
          "metadata": {},
          "execution_count": 8
        }
      ],
      "source": [
        "# Checking the number of distinct complaint descriptions in the data\n",
        "df['descriptor'].nunique()"
      ]
    },
    {
      "cell_type": "code",
      "execution_count": 10,
      "metadata": {
        "colab": {
          "base_uri": "https://localhost:8080/"
        },
        "id": "lEocsbL4lASW",
        "outputId": "54bad63f-d653-4645-a7c3-92abdc05eff1"
      },
      "outputs": [
        {
          "output_type": "execute_result",
          "data": {
            "text/plain": [
              "loud music/party                       1711604\n",
              "heat                                    871935\n",
              "entire building                         748780\n",
              "street light out                        664412\n",
              "no access                               645002\n",
              "pothole                                 569254\n",
              "banging/pounding                        486291\n",
              "apartment only                          400948\n",
              "ceiling                                 340127\n",
              "request large bulky item collection     326335\n",
              "loud talking                            287174\n",
              "mold                                    244646\n",
              "floor                                   230981\n",
              "posted parking sign violation           226309\n",
              "controller                              224723\n",
              "partial access                          222918\n",
              "pests                                   214857\n",
              "with license plate                      207812\n",
              "15 street cond/dump-out/drop-off        199513\n",
              "14 derelict vehicles                    196553\n",
              "Name: descriptor, dtype: int64"
            ]
          },
          "metadata": {},
          "execution_count": 10
        }
      ],
      "source": [
        "df['descriptor'].value_counts()[:20]"
      ]
    },
    {
      "cell_type": "markdown",
      "metadata": {
        "id": "7FA-a5a-lASW"
      },
      "source": [
        "It is evident from the above result that there are thousands of redundant complaint descriptions. We can get rid of the duplicates to ease processing and improve prediction"
      ]
    },
    {
      "cell_type": "code",
      "source": [
        "# Length of df before removing duplicate complaint descriptions\n",
        "len(df)"
      ],
      "metadata": {
        "colab": {
          "base_uri": "https://localhost:8080/"
        },
        "id": "oxr5EfRdmYo2",
        "outputId": "3f701085-c6d1-4166-dea8-47867cd7913c"
      },
      "execution_count": 11,
      "outputs": [
        {
          "output_type": "execute_result",
          "data": {
            "text/plain": [
              "20747363"
            ]
          },
          "metadata": {},
          "execution_count": 11
        }
      ]
    },
    {
      "cell_type": "code",
      "execution_count": 12,
      "metadata": {
        "id": "OtCrPG3llASY"
      },
      "outputs": [],
      "source": [
        "# Dropping rows which have duplicate complaint descriptions\n",
        "df_no_duplicates = df.drop_duplicates(subset=['descriptor'], keep='first')"
      ]
    },
    {
      "cell_type": "code",
      "source": [
        "# Length of df after removing duplicate complaint descriptions\n",
        "len(df_no_duplicates)"
      ],
      "metadata": {
        "colab": {
          "base_uri": "https://localhost:8080/"
        },
        "id": "7-xHQyBwmhbo",
        "outputId": "894e38c2-bdad-4bac-ff1f-e51a3d0b2677"
      },
      "execution_count": 13,
      "outputs": [
        {
          "output_type": "execute_result",
          "data": {
            "text/plain": [
              "1094"
            ]
          },
          "metadata": {},
          "execution_count": 13
        }
      ]
    },
    {
      "cell_type": "markdown",
      "source": [
        "As we can see, the length of the df has gone from 2074363 to 1094. That is a **99.94% decrease**.    \n",
        "\n",
        "This particular step has already benefitted us in terms of:\n",
        "*   avoiding redundant calculation\n",
        "*   saving enormous compute time\n",
        "*   improving model prediction probability"
      ],
      "metadata": {
        "id": "mDp2pYf9mnJw"
      }
    },
    {
      "cell_type": "code",
      "execution_count": null,
      "metadata": {
        "id": "jUCbOGvxlASa",
        "outputId": "cca325d9-7118-4077-8ef3-6fd869c9b9ab"
      },
      "outputs": [
        {
          "data": {
            "text/plain": [
              "1094"
            ]
          },
          "execution_count": 55,
          "metadata": {},
          "output_type": "execute_result"
        }
      ],
      "source": [
        "# Checking that we still have each type of complaint description\n",
        "df_no_duplicates['descriptor'].nunique()"
      ]
    },
    {
      "cell_type": "markdown",
      "metadata": {
        "id": "682tGZjalASc"
      },
      "source": [
        "Before we get into text preprocessing, let us see why do we need to do it?"
      ]
    },
    {
      "cell_type": "code",
      "execution_count": null,
      "metadata": {
        "id": "L_6K-TCxlASc",
        "outputId": "43017473-a691-4a09-b426-c4906c8ff87a"
      },
      "outputs": [
        {
          "data": {
            "text/plain": [
              "5784                       street light dayburning\n",
              "15790743                   disclosure not provided\n",
              "41783                                   heavy flow\n",
              "1524                no parking, standing, stopping\n",
              "23451       air: smoke, other (use comments) (aa5)\n",
              "37576                                 in post base\n",
              "23499       housing education program course guide\n",
              "47725                          other agency charge\n",
              "16836                                trunk damaged\n",
              "5748           working contrary to stop work order\n",
              "1383570                         pool/billiard hall\n",
              "513848             portable amusement ride license\n",
              "90032                      animal boarding license\n",
              "7063                 dismiss violation owner fixed\n",
              "122495                           wood pole leaning\n",
              "Name: descriptor, dtype: object"
            ]
          },
          "execution_count": 56,
          "metadata": {},
          "output_type": "execute_result"
        }
      ],
      "source": [
        "df_no_duplicates['descriptor'].sample(n = 15)"
      ]
    },
    {
      "cell_type": "markdown",
      "metadata": {
        "id": "PbrXxQ5ClASd"
      },
      "source": [
        "From the above samples of the complaint descriptions, it is evident there is a lot of **noise** in the data.  \n",
        "The noise is anything which doesn't help us classify the complaint into one of the type. This includes **brackets**, **hyphens**, **numeric** characters, non-words, **special characters** etc.  \n",
        "Removing this noise from the description text will drastically improve our model performance. Hence we need to do text preprocessing"
      ]
    },
    {
      "cell_type": "markdown",
      "source": [
        ""
      ],
      "metadata": {
        "id": "9WdScwETn_04"
      }
    },
    {
      "cell_type": "markdown",
      "metadata": {
        "id": "IDyalAMflASd"
      },
      "source": [
        "The below defined text preprocessing function not only has the Traditional Natural Language Processing - Text Cleaning techniques, but also has **special methods** to clean the textual data in context with the NYC 311 dataset. I came up with these functions after obersving random samples of the data."
      ]
    },
    {
      "cell_type": "code",
      "execution_count": 14,
      "metadata": {
        "id": "SZFI2ms_lASe"
      },
      "outputs": [],
      "source": [
        "# Function to preprocess text\n",
        "\n",
        "def preprocess_text(text):\n",
        "    \n",
        "    cleaned_text = text.replace(\"/\", \" \")\n",
        "    \n",
        "    cleaned_text = cleaned_text.replace(\",\", \"\")\n",
        "    \n",
        "    cleaned_text = cleaned_text.replace(\"-\", \" \")\n",
        "    \n",
        "    # Removes all characters present between brackets including the brackets\n",
        "    cleaned_text = re.sub(\"[\\(\\[].*?[\\)\\]]\", \"\", cleaned_text)\n",
        "    \n",
        "    cleaned_text = re.sub(r'\\w*\\d\\w*', '', cleaned_text)\n",
        "    \n",
        "    # tokenize the string\n",
        "    tokens = word_tokenize(cleaned_text)\n",
        "\n",
        "    # remove punctuation\n",
        "    words = [word for word in tokens if word.isalpha()]\n",
        "\n",
        "    # remove stop words\n",
        "    words = [w for w in words if not w in stop_words]\n",
        "    \n",
        "    # join words to form a string\n",
        "    cleaned_text = ' '.join(words)\n",
        "    \n",
        "    # remove extra spaces\n",
        "    cleaned_text = cleaned_text.strip()\n",
        "    \n",
        "    return cleaned_text"
      ]
    },
    {
      "cell_type": "code",
      "execution_count": null,
      "metadata": {
        "id": "Q6ZqnhAWlASf"
      },
      "outputs": [],
      "source": [
        ""
      ]
    },
    {
      "cell_type": "code",
      "execution_count": 15,
      "metadata": {
        "colab": {
          "base_uri": "https://localhost:8080/"
        },
        "id": "C-ApBCeJlASf",
        "outputId": "b9b584b2-9c5c-4770-ada8-ece77082968c"
      },
      "outputs": [
        {
          "output_type": "stream",
          "name": "stderr",
          "text": [
            "100%|██████████| 1094/1094 [00:00<00:00, 8207.52it/s]\n",
            "/usr/local/lib/python3.7/dist-packages/ipykernel_launcher.py:5: SettingWithCopyWarning: \n",
            "A value is trying to be set on a copy of a slice from a DataFrame.\n",
            "Try using .loc[row_indexer,col_indexer] = value instead\n",
            "\n",
            "See the caveats in the documentation: https://pandas.pydata.org/pandas-docs/stable/user_guide/indexing.html#returning-a-view-versus-a-copy\n",
            "  \"\"\"\n"
          ]
        }
      ],
      "source": [
        "# cloning the df_no_duplicates dataframe\n",
        "df_cleaned = df_no_duplicates\n",
        "\n",
        "# Applying text_preprocessing and storing results in the df_cleaned dataframe\n",
        "df_cleaned['descriptor'] = df_no_duplicates['descriptor'].progress_apply(preprocess_text)"
      ]
    },
    {
      "cell_type": "code",
      "execution_count": 16,
      "metadata": {
        "id": "y6DEZujRlASg"
      },
      "outputs": [],
      "source": [
        "# Removing rows which have empty complaint descriptions\n",
        "df_cleaned = df_cleaned[df_cleaned.descriptor != '']"
      ]
    },
    {
      "cell_type": "code",
      "source": [
        "# Removing NA values from df_cleaned\n",
        "df_cleaned = df_cleaned.dropna(axis=0, how='any')"
      ],
      "metadata": {
        "id": "jPw8V71SpW3f"
      },
      "execution_count": null,
      "outputs": []
    },
    {
      "cell_type": "code",
      "execution_count": 17,
      "metadata": {
        "colab": {
          "base_uri": "https://localhost:8080/",
          "height": 206
        },
        "id": "ocnpRVyPlASg",
        "outputId": "4b6a86d7-646f-4ebc-97fe-12dff1d28594"
      },
      "outputs": [
        {
          "output_type": "execute_result",
          "data": {
            "text/html": [
              "\n",
              "  <div id=\"df-05ec4147-0217-4c6f-b3a1-587ff958d098\">\n",
              "    <div class=\"colab-df-container\">\n",
              "      <div>\n",
              "<style scoped>\n",
              "    .dataframe tbody tr th:only-of-type {\n",
              "        vertical-align: middle;\n",
              "    }\n",
              "\n",
              "    .dataframe tbody tr th {\n",
              "        vertical-align: top;\n",
              "    }\n",
              "\n",
              "    .dataframe thead th {\n",
              "        text-align: right;\n",
              "    }\n",
              "</style>\n",
              "<table border=\"1\" class=\"dataframe\">\n",
              "  <thead>\n",
              "    <tr style=\"text-align: right;\">\n",
              "      <th></th>\n",
              "      <th>complaint_type</th>\n",
              "      <th>descriptor</th>\n",
              "    </tr>\n",
              "  </thead>\n",
              "  <tbody>\n",
              "    <tr>\n",
              "      <th>0</th>\n",
              "      <td>HEATING</td>\n",
              "      <td>heat</td>\n",
              "    </tr>\n",
              "    <tr>\n",
              "      <th>2</th>\n",
              "      <td>PLUMBING</td>\n",
              "      <td>shower stall</td>\n",
              "    </tr>\n",
              "    <tr>\n",
              "      <th>3</th>\n",
              "      <td>PAINT</td>\n",
              "      <td>walls</td>\n",
              "    </tr>\n",
              "    <tr>\n",
              "      <th>4</th>\n",
              "      <td>PAINT</td>\n",
              "      <td>ceiling</td>\n",
              "    </tr>\n",
              "    <tr>\n",
              "      <th>5</th>\n",
              "      <td>CONSTRUCTION</td>\n",
              "      <td>locks</td>\n",
              "    </tr>\n",
              "  </tbody>\n",
              "</table>\n",
              "</div>\n",
              "      <button class=\"colab-df-convert\" onclick=\"convertToInteractive('df-05ec4147-0217-4c6f-b3a1-587ff958d098')\"\n",
              "              title=\"Convert this dataframe to an interactive table.\"\n",
              "              style=\"display:none;\">\n",
              "        \n",
              "  <svg xmlns=\"http://www.w3.org/2000/svg\" height=\"24px\"viewBox=\"0 0 24 24\"\n",
              "       width=\"24px\">\n",
              "    <path d=\"M0 0h24v24H0V0z\" fill=\"none\"/>\n",
              "    <path d=\"M18.56 5.44l.94 2.06.94-2.06 2.06-.94-2.06-.94-.94-2.06-.94 2.06-2.06.94zm-11 1L8.5 8.5l.94-2.06 2.06-.94-2.06-.94L8.5 2.5l-.94 2.06-2.06.94zm10 10l.94 2.06.94-2.06 2.06-.94-2.06-.94-.94-2.06-.94 2.06-2.06.94z\"/><path d=\"M17.41 7.96l-1.37-1.37c-.4-.4-.92-.59-1.43-.59-.52 0-1.04.2-1.43.59L10.3 9.45l-7.72 7.72c-.78.78-.78 2.05 0 2.83L4 21.41c.39.39.9.59 1.41.59.51 0 1.02-.2 1.41-.59l7.78-7.78 2.81-2.81c.8-.78.8-2.07 0-2.86zM5.41 20L4 18.59l7.72-7.72 1.47 1.35L5.41 20z\"/>\n",
              "  </svg>\n",
              "      </button>\n",
              "      \n",
              "  <style>\n",
              "    .colab-df-container {\n",
              "      display:flex;\n",
              "      flex-wrap:wrap;\n",
              "      gap: 12px;\n",
              "    }\n",
              "\n",
              "    .colab-df-convert {\n",
              "      background-color: #E8F0FE;\n",
              "      border: none;\n",
              "      border-radius: 50%;\n",
              "      cursor: pointer;\n",
              "      display: none;\n",
              "      fill: #1967D2;\n",
              "      height: 32px;\n",
              "      padding: 0 0 0 0;\n",
              "      width: 32px;\n",
              "    }\n",
              "\n",
              "    .colab-df-convert:hover {\n",
              "      background-color: #E2EBFA;\n",
              "      box-shadow: 0px 1px 2px rgba(60, 64, 67, 0.3), 0px 1px 3px 1px rgba(60, 64, 67, 0.15);\n",
              "      fill: #174EA6;\n",
              "    }\n",
              "\n",
              "    [theme=dark] .colab-df-convert {\n",
              "      background-color: #3B4455;\n",
              "      fill: #D2E3FC;\n",
              "    }\n",
              "\n",
              "    [theme=dark] .colab-df-convert:hover {\n",
              "      background-color: #434B5C;\n",
              "      box-shadow: 0px 1px 3px 1px rgba(0, 0, 0, 0.15);\n",
              "      filter: drop-shadow(0px 1px 2px rgba(0, 0, 0, 0.3));\n",
              "      fill: #FFFFFF;\n",
              "    }\n",
              "  </style>\n",
              "\n",
              "      <script>\n",
              "        const buttonEl =\n",
              "          document.querySelector('#df-05ec4147-0217-4c6f-b3a1-587ff958d098 button.colab-df-convert');\n",
              "        buttonEl.style.display =\n",
              "          google.colab.kernel.accessAllowed ? 'block' : 'none';\n",
              "\n",
              "        async function convertToInteractive(key) {\n",
              "          const element = document.querySelector('#df-05ec4147-0217-4c6f-b3a1-587ff958d098');\n",
              "          const dataTable =\n",
              "            await google.colab.kernel.invokeFunction('convertToInteractive',\n",
              "                                                     [key], {});\n",
              "          if (!dataTable) return;\n",
              "\n",
              "          const docLinkHtml = 'Like what you see? Visit the ' +\n",
              "            '<a target=\"_blank\" href=https://colab.research.google.com/notebooks/data_table.ipynb>data table notebook</a>'\n",
              "            + ' to learn more about interactive tables.';\n",
              "          element.innerHTML = '';\n",
              "          dataTable['output_type'] = 'display_data';\n",
              "          await google.colab.output.renderOutput(dataTable, element);\n",
              "          const docLink = document.createElement('div');\n",
              "          docLink.innerHTML = docLinkHtml;\n",
              "          element.appendChild(docLink);\n",
              "        }\n",
              "      </script>\n",
              "    </div>\n",
              "  </div>\n",
              "  "
            ],
            "text/plain": [
              "  complaint_type    descriptor\n",
              "0        HEATING          heat\n",
              "2       PLUMBING  shower stall\n",
              "3          PAINT         walls\n",
              "4          PAINT       ceiling\n",
              "5   CONSTRUCTION         locks"
            ]
          },
          "metadata": {},
          "execution_count": 17
        }
      ],
      "source": [
        "df_cleaned.head()"
      ]
    },
    {
      "cell_type": "code",
      "execution_count": 18,
      "metadata": {
        "colab": {
          "base_uri": "https://localhost:8080/",
          "height": 406
        },
        "id": "FYxzJ1rxlASh",
        "outputId": "9c57d4cd-529b-412a-ea16-1429b84f2c20"
      },
      "outputs": [
        {
          "output_type": "stream",
          "name": "stderr",
          "text": [
            "/usr/local/lib/python3.7/dist-packages/seaborn/_decorators.py:43: FutureWarning: Pass the following variables as keyword args: x, y. From version 0.12, the only valid positional argument will be `data`, and passing other arguments without an explicit keyword will result in an error or misinterpretation.\n",
            "  FutureWarning\n"
          ]
        },
        {
          "output_type": "execute_result",
          "data": {
            "text/plain": [
              "(array([ 0,  1,  2,  3,  4,  5,  6,  7,  8,  9, 10, 11, 12, 13, 14, 15, 16,\n",
              "        17, 18, 19, 20, 21, 22, 23, 24, 25, 26, 27, 28, 29, 30, 31, 32, 33,\n",
              "        34, 35, 36, 37, 38, 39, 40, 41, 42, 43, 44, 45, 46, 47, 48, 49, 50,\n",
              "        51, 52, 53, 54, 55, 56, 57, 58, 59, 60, 61, 62, 63, 64, 65, 66, 67]),\n",
              " <a list of 68 Text major ticklabel objects>)"
            ]
          },
          "metadata": {},
          "execution_count": 18
        },
        {
          "output_type": "display_data",
          "data": {
            "image/png": "[encoded data removed]",
            "text/plain": [
              "<Figure size 432x288 with 1 Axes>"
            ]
          },
          "metadata": {}
        }
      ],
      "source": [
        "# Viewing distinct complaint type with counts\n",
        "counts = df_cleaned['complaint_type'].value_counts()\n",
        "sns.barplot(counts.index, counts)\n",
        "plt.gca().set_ylabel('samples')\n",
        "plt.xticks(color=\"white\")"
      ]
    },
    {
      "cell_type": "markdown",
      "metadata": {
        "id": "b5b2h5TmlASi"
      },
      "source": [
        "From above chart, we observe a huge class imbalance. But before we work on solving that problem, notice the labels with less than 10 samples  \n",
        "The label with highest samples has a count of 133 samples.  \n",
        "I am comprehending that even if we consider the labels with less than 10 samples, the model may never classify text into those classes, since the model will never learn much about these labels.  \n",
        "So I have decided to drop the labels which have less than 10 samples."
      ]
    },
    {
      "cell_type": "code",
      "execution_count": 23,
      "metadata": {
        "id": "lydP2vLflASi"
      },
      "outputs": [],
      "source": [
        "# dropping samples which have less than 10 complaint descriptions\n",
        "df_cleaned = df_cleaned[~df_cleaned['complaint_type'].isin(counts[counts < 10].index)]"
      ]
    },
    {
      "cell_type": "markdown",
      "source": [
        "# Label Encoding"
      ],
      "metadata": {
        "id": "wWwuWe0986PK"
      }
    },
    {
      "cell_type": "code",
      "execution_count": 24,
      "metadata": {
        "id": "UKLT6hWJlASj"
      },
      "outputs": [],
      "source": [
        "# Using sklearn LabelEndoder to encode numeric labels for complaint_types which is our target variable\n",
        "le = preprocessing.LabelEncoder()\n",
        "le.fit(df_cleaned.complaint_type)\n",
        "df_cleaned['labels'] = le.transform(df_cleaned.complaint_type)"
      ]
    },
    {
      "cell_type": "code",
      "source": [
        "df_cleaned.head()"
      ],
      "metadata": {
        "colab": {
          "base_uri": "https://localhost:8080/",
          "height": 206
        },
        "id": "02kNq225pvGn",
        "outputId": "0760c72b-0837-462e-9f26-998ecc4a5988"
      },
      "execution_count": 27,
      "outputs": [
        {
          "output_type": "execute_result",
          "data": {
            "text/html": [
              "\n",
              "  <div id=\"df-faa96b55-3b8a-4f81-ab80-d9c8b909a57f\">\n",
              "    <div class=\"colab-df-container\">\n",
              "      <div>\n",
              "<style scoped>\n",
              "    .dataframe tbody tr th:only-of-type {\n",
              "        vertical-align: middle;\n",
              "    }\n",
              "\n",
              "    .dataframe tbody tr th {\n",
              "        vertical-align: top;\n",
              "    }\n",
              "\n",
              "    .dataframe thead th {\n",
              "        text-align: right;\n",
              "    }\n",
              "</style>\n",
              "<table border=\"1\" class=\"dataframe\">\n",
              "  <thead>\n",
              "    <tr style=\"text-align: right;\">\n",
              "      <th></th>\n",
              "      <th>complaint_type</th>\n",
              "      <th>descriptor</th>\n",
              "      <th>labels</th>\n",
              "    </tr>\n",
              "  </thead>\n",
              "  <tbody>\n",
              "    <tr>\n",
              "      <th>2</th>\n",
              "      <td>PLUMBING</td>\n",
              "      <td>shower stall</td>\n",
              "      <td>17</td>\n",
              "    </tr>\n",
              "    <tr>\n",
              "      <th>5</th>\n",
              "      <td>CONSTRUCTION</td>\n",
              "      <td>locks</td>\n",
              "      <td>1</td>\n",
              "    </tr>\n",
              "    <tr>\n",
              "      <th>6</th>\n",
              "      <td>PLUMBING</td>\n",
              "      <td>bathtub</td>\n",
              "      <td>17</td>\n",
              "    </tr>\n",
              "    <tr>\n",
              "      <th>7</th>\n",
              "      <td>PLUMBING</td>\n",
              "      <td>water leaks</td>\n",
              "      <td>17</td>\n",
              "    </tr>\n",
              "    <tr>\n",
              "      <th>14</th>\n",
              "      <td>OTHER</td>\n",
              "      <td>rubbish</td>\n",
              "      <td>16</td>\n",
              "    </tr>\n",
              "  </tbody>\n",
              "</table>\n",
              "</div>\n",
              "      <button class=\"colab-df-convert\" onclick=\"convertToInteractive('df-faa96b55-3b8a-4f81-ab80-d9c8b909a57f')\"\n",
              "              title=\"Convert this dataframe to an interactive table.\"\n",
              "              style=\"display:none;\">\n",
              "        \n",
              "  <svg xmlns=\"http://www.w3.org/2000/svg\" height=\"24px\"viewBox=\"0 0 24 24\"\n",
              "       width=\"24px\">\n",
              "    <path d=\"M0 0h24v24H0V0z\" fill=\"none\"/>\n",
              "    <path d=\"M18.56 5.44l.94 2.06.94-2.06 2.06-.94-2.06-.94-.94-2.06-.94 2.06-2.06.94zm-11 1L8.5 8.5l.94-2.06 2.06-.94-2.06-.94L8.5 2.5l-.94 2.06-2.06.94zm10 10l.94 2.06.94-2.06 2.06-.94-2.06-.94-.94-2.06-.94 2.06-2.06.94z\"/><path d=\"M17.41 7.96l-1.37-1.37c-.4-.4-.92-.59-1.43-.59-.52 0-1.04.2-1.43.59L10.3 9.45l-7.72 7.72c-.78.78-.78 2.05 0 2.83L4 21.41c.39.39.9.59 1.41.59.51 0 1.02-.2 1.41-.59l7.78-7.78 2.81-2.81c.8-.78.8-2.07 0-2.86zM5.41 20L4 18.59l7.72-7.72 1.47 1.35L5.41 20z\"/>\n",
              "  </svg>\n",
              "      </button>\n",
              "      \n",
              "  <style>\n",
              "    .colab-df-container {\n",
              "      display:flex;\n",
              "      flex-wrap:wrap;\n",
              "      gap: 12px;\n",
              "    }\n",
              "\n",
              "    .colab-df-convert {\n",
              "      background-color: #E8F0FE;\n",
              "      border: none;\n",
              "      border-radius: 50%;\n",
              "      cursor: pointer;\n",
              "      display: none;\n",
              "      fill: #1967D2;\n",
              "      height: 32px;\n",
              "      padding: 0 0 0 0;\n",
              "      width: 32px;\n",
              "    }\n",
              "\n",
              "    .colab-df-convert:hover {\n",
              "      background-color: #E2EBFA;\n",
              "      box-shadow: 0px 1px 2px rgba(60, 64, 67, 0.3), 0px 1px 3px 1px rgba(60, 64, 67, 0.15);\n",
              "      fill: #174EA6;\n",
              "    }\n",
              "\n",
              "    [theme=dark] .colab-df-convert {\n",
              "      background-color: #3B4455;\n",
              "      fill: #D2E3FC;\n",
              "    }\n",
              "\n",
              "    [theme=dark] .colab-df-convert:hover {\n",
              "      background-color: #434B5C;\n",
              "      box-shadow: 0px 1px 3px 1px rgba(0, 0, 0, 0.15);\n",
              "      filter: drop-shadow(0px 1px 2px rgba(0, 0, 0, 0.3));\n",
              "      fill: #FFFFFF;\n",
              "    }\n",
              "  </style>\n",
              "\n",
              "      <script>\n",
              "        const buttonEl =\n",
              "          document.querySelector('#df-faa96b55-3b8a-4f81-ab80-d9c8b909a57f button.colab-df-convert');\n",
              "        buttonEl.style.display =\n",
              "          google.colab.kernel.accessAllowed ? 'block' : 'none';\n",
              "\n",
              "        async function convertToInteractive(key) {\n",
              "          const element = document.querySelector('#df-faa96b55-3b8a-4f81-ab80-d9c8b909a57f');\n",
              "          const dataTable =\n",
              "            await google.colab.kernel.invokeFunction('convertToInteractive',\n",
              "                                                     [key], {});\n",
              "          if (!dataTable) return;\n",
              "\n",
              "          const docLinkHtml = 'Like what you see? Visit the ' +\n",
              "            '<a target=\"_blank\" href=https://colab.research.google.com/notebooks/data_table.ipynb>data table notebook</a>'\n",
              "            + ' to learn more about interactive tables.';\n",
              "          element.innerHTML = '';\n",
              "          dataTable['output_type'] = 'display_data';\n",
              "          await google.colab.output.renderOutput(dataTable, element);\n",
              "          const docLink = document.createElement('div');\n",
              "          docLink.innerHTML = docLinkHtml;\n",
              "          element.appendChild(docLink);\n",
              "        }\n",
              "      </script>\n",
              "    </div>\n",
              "  </div>\n",
              "  "
            ],
            "text/plain": [
              "   complaint_type    descriptor  labels\n",
              "2        PLUMBING  shower stall      17\n",
              "5    CONSTRUCTION         locks       1\n",
              "6        PLUMBING       bathtub      17\n",
              "7        PLUMBING   water leaks      17\n",
              "14          OTHER       rubbish      16"
            ]
          },
          "metadata": {},
          "execution_count": 27
        }
      ]
    },
    {
      "cell_type": "markdown",
      "source": [
        "This notebook creates the dataset with class imbalance.  \n",
        "I have not applied augmentation to the data here.  \n",
        "I will train models based on this data and further with the balanced data, to be able to compare the performance of both the datasets.  "
      ],
      "metadata": {
        "id": "wzfuQn_1qJUP"
      }
    },
    {
      "cell_type": "code",
      "execution_count": null,
      "metadata": {
        "id": "XfcjQOnxlASk"
      },
      "outputs": [],
      "source": [
        "# saving the dataframe \n",
        "df.to_csv('nyc_311_imbalanced.csv')"
      ]
    },
    {
      "cell_type": "code",
      "execution_count": null,
      "metadata": {
        "id": "DYSir2vtlASk"
      },
      "outputs": [],
      "source": [
        "# saving the dataframe in format for AutoNLP HuggingFace Training\n",
        "\n",
        "df_hf = df_cleaned.rename(columns={'complaint_type': 'target'})\n",
        "del df_hf['labels']\n",
        "df_hf.to_csv('hf_nyc_311_imbalanced.csv')"
      ]
    }
  ],
  "metadata": {
    "kernelspec": {
      "display_name": "Python 3",
      "language": "python",
      "name": "python3"
    },
    "language_info": {
      "codemirror_mode": {
        "name": "ipython",
        "version": 3
      },
      "file_extension": ".py",
      "mimetype": "text/x-python",
      "name": "python",
      "nbconvert_exporter": "python",
      "pygments_lexer": "ipython3",
      "version": "3.7.6"
    },
    "colab": {
      "name": "Ezoic-Challenge-Two-Data-Preprocessing-1.ipynb",
      "provenance": [],
      "collapsed_sections": []
    }
  },
  "nbformat": 4,
  "nbformat_minor": 0
}