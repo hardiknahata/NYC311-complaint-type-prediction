{
  "cells": [
    {
      "cell_type": "markdown",
      "metadata": {
        "id": "B-t88bRGOiFq"
      },
      "source": [
        "## **Challenge Two: Build a Data Product**  \n",
        "\n",
        "I am filtering the data and forming the data needed to work on Complaint Type Prediction."
      ]
    },
    {
      "cell_type": "markdown",
      "metadata": {
        "id": "vGDMpfC8SWJd"
      },
      "source": [
        "# Data Filtering"
      ]
    },
    {
      "cell_type": "code",
      "execution_count": 1,
      "metadata": {
        "colab": {
          "base_uri": "https://localhost:8080/"
        },
        "id": "xReC_7Zop3zk",
        "outputId": "23600ba5-ac84-46cb-8e67-88237973d48e"
      },
      "outputs": [
        {
          "name": "stderr",
          "output_type": "stream",
          "text": [
            "/usr/local/lib/python3.7/dist-packages/psycopg2/__init__.py:144: UserWarning: The psycopg2 wheel package will be renamed from release 2.8; in order to keep installing from binary please use \"pip install psycopg2-binary\" instead. For details see: <http://initd.org/psycopg/docs/install.html#binary-install-from-pypi>.\n",
            "  \"\"\")\n"
          ]
        }
      ],
      "source": [
        "# !pip install psycopg2-binary\n",
        "import pandas as pd\n",
        "import psycopg2\n",
        "import numpy as np\n",
        "import seaborn as sns\n",
        "import matplotlib.pyplot as plt\n",
        "import re\n",
        "pd.set_option(\"display.max_rows\", None, \"display.max_columns\", None)"
      ]
    },
    {
      "cell_type": "code",
      "execution_count": 2,
      "metadata": {
        "id": "cqMBwWqXp6t6"
      },
      "outputs": [],
      "source": [
        "# Function provided to access the Dataset from Redshift Database\n",
        "\n",
        "def query_db(query):\n",
        " '''\n",
        "    Runs sql query on 311 database and returns a pandas DataFrame.\n",
        "    Redshift is a data warehouse based on PostgreSQL, so syntax is mostly the same\n",
        "    '''\n",
        " host = 'interview-ds.ckgnwnm6pw4o.us-east-1.redshift.amazonaws.com'\n",
        " port = 5439\n",
        " db = 'interview'\n",
        " username = 'dsguest'\n",
        " password = 'nX9EFYUZ5Yu#0q'\n",
        " conn = psycopg2.connect(host=host, port=port, dbname=db, user=username, password=password)\n",
        " cur = conn.cursor()\n",
        " cur.execute(query)\n",
        " rows = cur.fetchall()\n",
        " column_names = [desc[0] for desc in cur.description]\n",
        " rows = pd.DataFrame(rows)\n",
        " return rows, column_names"
      ]
    },
    {
      "cell_type": "markdown",
      "metadata": {
        "id": "2PJSPjUhjrkm"
      },
      "source": [
        "# Analysing data for Complaint Type Prediciton"
      ]
    },
    {
      "cell_type": "markdown",
      "metadata": {
        "id": "lLRu4MV-cfXW"
      },
      "source": [
        "Querying the **complaint_type** and **descriptor** columns."
      ]
    },
    {
      "cell_type": "code",
      "execution_count": 3,
      "metadata": {
        "id": "hx5NDnmvZF0n"
      },
      "outputs": [],
      "source": [
        "query =  \"\"\" SELECT complaint_type, descriptor\n",
        "             FROM public.three_one_one \n",
        "            \"\"\"\n",
        "df_311, column_names = query_db(query)\n",
        "\n",
        "# naming columns of the pandas dataframe\n",
        "df_311 = df_311.rename(columns={0: column_names[0], 1: column_names[1]})"
      ]
    },
    {
      "cell_type": "code",
      "execution_count": 4,
      "metadata": {
        "id": "f1d9RQLePqBr"
      },
      "outputs": [],
      "source": [
        "# Making a copy of the df\n",
        "df = df_311"
      ]
    },
    {
      "cell_type": "code",
      "execution_count": 6,
      "metadata": {
        "colab": {
          "base_uri": "https://localhost:8080/",
          "height": 206
        },
        "id": "TgeCSXKtcW7Q",
        "outputId": "9117bb88-f7d6-49ab-ee40-2fc937b4b23f"
      },
      "outputs": [
        {
          "data": {
            "text/html": [
              "\n",
              "  <div id=\"df-518dfa41-1082-463b-a8a7-80b065815056\">\n",
              "    <div class=\"colab-df-container\">\n",
              "      <div>\n",
              "<style scoped>\n",
              "    .dataframe tbody tr th:only-of-type {\n",
              "        vertical-align: middle;\n",
              "    }\n",
              "\n",
              "    .dataframe tbody tr th {\n",
              "        vertical-align: top;\n",
              "    }\n",
              "\n",
              "    .dataframe thead th {\n",
              "        text-align: right;\n",
              "    }\n",
              "</style>\n",
              "<table border=\"1\" class=\"dataframe\">\n",
              "  <thead>\n",
              "    <tr style=\"text-align: right;\">\n",
              "      <th></th>\n",
              "      <th>complaint_type</th>\n",
              "      <th>descriptor</th>\n",
              "    </tr>\n",
              "  </thead>\n",
              "  <tbody>\n",
              "    <tr>\n",
              "      <th>0</th>\n",
              "      <td>PAINT - PLASTER</td>\n",
              "      <td>CEILING</td>\n",
              "    </tr>\n",
              "    <tr>\n",
              "      <th>1</th>\n",
              "      <td>PAINT - PLASTER</td>\n",
              "      <td>WALLS</td>\n",
              "    </tr>\n",
              "    <tr>\n",
              "      <th>2</th>\n",
              "      <td>PAINT - PLASTER</td>\n",
              "      <td>CEILING</td>\n",
              "    </tr>\n",
              "    <tr>\n",
              "      <th>3</th>\n",
              "      <td>PLUMBING</td>\n",
              "      <td>WATER-LEAKS</td>\n",
              "    </tr>\n",
              "    <tr>\n",
              "      <th>4</th>\n",
              "      <td>PLUMBING</td>\n",
              "      <td>WATER-LEAKS</td>\n",
              "    </tr>\n",
              "  </tbody>\n",
              "</table>\n",
              "</div>\n",
              "      <button class=\"colab-df-convert\" onclick=\"convertToInteractive('df-518dfa41-1082-463b-a8a7-80b065815056')\"\n",
              "              title=\"Convert this dataframe to an interactive table.\"\n",
              "              style=\"display:none;\">\n",
              "        \n",
              "  <svg xmlns=\"http://www.w3.org/2000/svg\" height=\"24px\"viewBox=\"0 0 24 24\"\n",
              "       width=\"24px\">\n",
              "    <path d=\"M0 0h24v24H0V0z\" fill=\"none\"/>\n",
              "    <path d=\"M18.56 5.44l.94 2.06.94-2.06 2.06-.94-2.06-.94-.94-2.06-.94 2.06-2.06.94zm-11 1L8.5 8.5l.94-2.06 2.06-.94-2.06-.94L8.5 2.5l-.94 2.06-2.06.94zm10 10l.94 2.06.94-2.06 2.06-.94-2.06-.94-.94-2.06-.94 2.06-2.06.94z\"/><path d=\"M17.41 7.96l-1.37-1.37c-.4-.4-.92-.59-1.43-.59-.52 0-1.04.2-1.43.59L10.3 9.45l-7.72 7.72c-.78.78-.78 2.05 0 2.83L4 21.41c.39.39.9.59 1.41.59.51 0 1.02-.2 1.41-.59l7.78-7.78 2.81-2.81c.8-.78.8-2.07 0-2.86zM5.41 20L4 18.59l7.72-7.72 1.47 1.35L5.41 20z\"/>\n",
              "  </svg>\n",
              "      </button>\n",
              "      \n",
              "  <style>\n",
              "    .colab-df-container {\n",
              "      display:flex;\n",
              "      flex-wrap:wrap;\n",
              "      gap: 12px;\n",
              "    }\n",
              "\n",
              "    .colab-df-convert {\n",
              "      background-color: #E8F0FE;\n",
              "      border: none;\n",
              "      border-radius: 50%;\n",
              "      cursor: pointer;\n",
              "      display: none;\n",
              "      fill: #1967D2;\n",
              "      height: 32px;\n",
              "      padding: 0 0 0 0;\n",
              "      width: 32px;\n",
              "    }\n",
              "\n",
              "    .colab-df-convert:hover {\n",
              "      background-color: #E2EBFA;\n",
              "      box-shadow: 0px 1px 2px rgba(60, 64, 67, 0.3), 0px 1px 3px 1px rgba(60, 64, 67, 0.15);\n",
              "      fill: #174EA6;\n",
              "    }\n",
              "\n",
              "    [theme=dark] .colab-df-convert {\n",
              "      background-color: #3B4455;\n",
              "      fill: #D2E3FC;\n",
              "    }\n",
              "\n",
              "    [theme=dark] .colab-df-convert:hover {\n",
              "      background-color: #434B5C;\n",
              "      box-shadow: 0px 1px 3px 1px rgba(0, 0, 0, 0.15);\n",
              "      filter: drop-shadow(0px 1px 2px rgba(0, 0, 0, 0.3));\n",
              "      fill: #FFFFFF;\n",
              "    }\n",
              "  </style>\n",
              "\n",
              "      <script>\n",
              "        const buttonEl =\n",
              "          document.querySelector('#df-518dfa41-1082-463b-a8a7-80b065815056 button.colab-df-convert');\n",
              "        buttonEl.style.display =\n",
              "          google.colab.kernel.accessAllowed ? 'block' : 'none';\n",
              "\n",
              "        async function convertToInteractive(key) {\n",
              "          const element = document.querySelector('#df-518dfa41-1082-463b-a8a7-80b065815056');\n",
              "          const dataTable =\n",
              "            await google.colab.kernel.invokeFunction('convertToInteractive',\n",
              "                                                     [key], {});\n",
              "          if (!dataTable) return;\n",
              "\n",
              "          const docLinkHtml = 'Like what you see? Visit the ' +\n",
              "            '<a target=\"_blank\" href=https://colab.research.google.com/notebooks/data_table.ipynb>data table notebook</a>'\n",
              "            + ' to learn more about interactive tables.';\n",
              "          element.innerHTML = '';\n",
              "          dataTable['output_type'] = 'display_data';\n",
              "          await google.colab.output.renderOutput(dataTable, element);\n",
              "          const docLink = document.createElement('div');\n",
              "          docLink.innerHTML = docLinkHtml;\n",
              "          element.appendChild(docLink);\n",
              "        }\n",
              "      </script>\n",
              "    </div>\n",
              "  </div>\n",
              "  "
            ],
            "text/plain": [
              "    complaint_type   descriptor\n",
              "0  PAINT - PLASTER      CEILING\n",
              "1  PAINT - PLASTER        WALLS\n",
              "2  PAINT - PLASTER      CEILING\n",
              "3         PLUMBING  WATER-LEAKS\n",
              "4         PLUMBING  WATER-LEAKS"
            ]
          },
          "execution_count": 6,
          "metadata": {},
          "output_type": "execute_result"
        }
      ],
      "source": [
        "df.head()"
      ]
    },
    {
      "cell_type": "code",
      "execution_count": 7,
      "metadata": {
        "colab": {
          "base_uri": "https://localhost:8080/",
          "height": 578
        },
        "id": "Drv8Xwe4KiYC",
        "outputId": "fcebe598-b12f-494d-a0fc-fe4bc3022aad"
      },
      "outputs": [
        {
          "data": {
            "text/plain": [
              "<matplotlib.axes._subplots.AxesSubplot at 0x7f541d35bc50>"
            ]
          },
          "execution_count": 7,
          "metadata": {},
          "output_type": "execute_result"
        },
        {
          "data": {
            "image/png": "[encoded data removed]",
            "text/plain": [
              "<Figure size 720x432 with 1 Axes>"
            ]
          },
          "metadata": {
            "needs_background": "light"
          },
          "output_type": "display_data"
        }
      ],
      "source": [
        "# Visualizing the top complaint types of the data\n",
        "(df['complaint_type'].value_counts()).head(25).plot(kind='bar',\n",
        "                    figsize=(10,6), title = 'Most Common Complaint Types')"
      ]
    },
    {
      "cell_type": "markdown",
      "metadata": {
        "id": "gguPWvezLL2I"
      },
      "source": [
        "The samples for the least reported are very very less compared to the most reported complaint types.  \n",
        "I have decided to work on the Top 100 most reported complaint types.  "
      ]
    },
    {
      "cell_type": "code",
      "execution_count": 8,
      "metadata": {
        "id": "9YdIe2KfeLV2"
      },
      "outputs": [],
      "source": [
        "# Making a list of the top 100 complaint types\n",
        "complaint_counts = df['complaint_type'].groupby(df['complaint_type']).count().sort_values(ascending = False).reset_index(name='count')\n",
        "top_100_complaints_list = complaint_counts['complaint_type'][:100].to_list()"
      ]
    },
    {
      "cell_type": "code",
      "execution_count": 9,
      "metadata": {
        "id": "2Z_N_r6weFqn"
      },
      "outputs": [],
      "source": [
        "# Filtering the dataframe with top 100 complaints\n",
        "boolean_series = df.complaint_type.isin(top_100_complaints_list)\n",
        "filtered_df = df[boolean_series]"
      ]
    },
    {
      "cell_type": "code",
      "execution_count": 10,
      "metadata": {
        "colab": {
          "base_uri": "https://localhost:8080/",
          "height": 206
        },
        "id": "AZMuCKHKMeBV",
        "outputId": "5e16a364-9406-4346-c27b-23c4602e0c89"
      },
      "outputs": [
        {
          "data": {
            "text/html": [
              "\n",
              "  <div id=\"df-4f4c039b-0713-4da0-85ca-8fc23b372b15\">\n",
              "    <div class=\"colab-df-container\">\n",
              "      <div>\n",
              "<style scoped>\n",
              "    .dataframe tbody tr th:only-of-type {\n",
              "        vertical-align: middle;\n",
              "    }\n",
              "\n",
              "    .dataframe tbody tr th {\n",
              "        vertical-align: top;\n",
              "    }\n",
              "\n",
              "    .dataframe thead th {\n",
              "        text-align: right;\n",
              "    }\n",
              "</style>\n",
              "<table border=\"1\" class=\"dataframe\">\n",
              "  <thead>\n",
              "    <tr style=\"text-align: right;\">\n",
              "      <th></th>\n",
              "      <th>complaint_type</th>\n",
              "      <th>descriptor</th>\n",
              "    </tr>\n",
              "  </thead>\n",
              "  <tbody>\n",
              "    <tr>\n",
              "      <th>0</th>\n",
              "      <td>PAINT - PLASTER</td>\n",
              "      <td>CEILING</td>\n",
              "    </tr>\n",
              "    <tr>\n",
              "      <th>1</th>\n",
              "      <td>PAINT - PLASTER</td>\n",
              "      <td>WALLS</td>\n",
              "    </tr>\n",
              "    <tr>\n",
              "      <th>2</th>\n",
              "      <td>PAINT - PLASTER</td>\n",
              "      <td>CEILING</td>\n",
              "    </tr>\n",
              "    <tr>\n",
              "      <th>3</th>\n",
              "      <td>PLUMBING</td>\n",
              "      <td>WATER-LEAKS</td>\n",
              "    </tr>\n",
              "    <tr>\n",
              "      <th>4</th>\n",
              "      <td>PLUMBING</td>\n",
              "      <td>WATER-LEAKS</td>\n",
              "    </tr>\n",
              "  </tbody>\n",
              "</table>\n",
              "</div>\n",
              "      <button class=\"colab-df-convert\" onclick=\"convertToInteractive('df-4f4c039b-0713-4da0-85ca-8fc23b372b15')\"\n",
              "              title=\"Convert this dataframe to an interactive table.\"\n",
              "              style=\"display:none;\">\n",
              "        \n",
              "  <svg xmlns=\"http://www.w3.org/2000/svg\" height=\"24px\"viewBox=\"0 0 24 24\"\n",
              "       width=\"24px\">\n",
              "    <path d=\"M0 0h24v24H0V0z\" fill=\"none\"/>\n",
              "    <path d=\"M18.56 5.44l.94 2.06.94-2.06 2.06-.94-2.06-.94-.94-2.06-.94 2.06-2.06.94zm-11 1L8.5 8.5l.94-2.06 2.06-.94-2.06-.94L8.5 2.5l-.94 2.06-2.06.94zm10 10l.94 2.06.94-2.06 2.06-.94-2.06-.94-.94-2.06-.94 2.06-2.06.94z\"/><path d=\"M17.41 7.96l-1.37-1.37c-.4-.4-.92-.59-1.43-.59-.52 0-1.04.2-1.43.59L10.3 9.45l-7.72 7.72c-.78.78-.78 2.05 0 2.83L4 21.41c.39.39.9.59 1.41.59.51 0 1.02-.2 1.41-.59l7.78-7.78 2.81-2.81c.8-.78.8-2.07 0-2.86zM5.41 20L4 18.59l7.72-7.72 1.47 1.35L5.41 20z\"/>\n",
              "  </svg>\n",
              "      </button>\n",
              "      \n",
              "  <style>\n",
              "    .colab-df-container {\n",
              "      display:flex;\n",
              "      flex-wrap:wrap;\n",
              "      gap: 12px;\n",
              "    }\n",
              "\n",
              "    .colab-df-convert {\n",
              "      background-color: #E8F0FE;\n",
              "      border: none;\n",
              "      border-radius: 50%;\n",
              "      cursor: pointer;\n",
              "      display: none;\n",
              "      fill: #1967D2;\n",
              "      height: 32px;\n",
              "      padding: 0 0 0 0;\n",
              "      width: 32px;\n",
              "    }\n",
              "\n",
              "    .colab-df-convert:hover {\n",
              "      background-color: #E2EBFA;\n",
              "      box-shadow: 0px 1px 2px rgba(60, 64, 67, 0.3), 0px 1px 3px 1px rgba(60, 64, 67, 0.15);\n",
              "      fill: #174EA6;\n",
              "    }\n",
              "\n",
              "    [theme=dark] .colab-df-convert {\n",
              "      background-color: #3B4455;\n",
              "      fill: #D2E3FC;\n",
              "    }\n",
              "\n",
              "    [theme=dark] .colab-df-convert:hover {\n",
              "      background-color: #434B5C;\n",
              "      box-shadow: 0px 1px 3px 1px rgba(0, 0, 0, 0.15);\n",
              "      filter: drop-shadow(0px 1px 2px rgba(0, 0, 0, 0.3));\n",
              "      fill: #FFFFFF;\n",
              "    }\n",
              "  </style>\n",
              "\n",
              "      <script>\n",
              "        const buttonEl =\n",
              "          document.querySelector('#df-4f4c039b-0713-4da0-85ca-8fc23b372b15 button.colab-df-convert');\n",
              "        buttonEl.style.display =\n",
              "          google.colab.kernel.accessAllowed ? 'block' : 'none';\n",
              "\n",
              "        async function convertToInteractive(key) {\n",
              "          const element = document.querySelector('#df-4f4c039b-0713-4da0-85ca-8fc23b372b15');\n",
              "          const dataTable =\n",
              "            await google.colab.kernel.invokeFunction('convertToInteractive',\n",
              "                                                     [key], {});\n",
              "          if (!dataTable) return;\n",
              "\n",
              "          const docLinkHtml = 'Like what you see? Visit the ' +\n",
              "            '<a target=\"_blank\" href=https://colab.research.google.com/notebooks/data_table.ipynb>data table notebook</a>'\n",
              "            + ' to learn more about interactive tables.';\n",
              "          element.innerHTML = '';\n",
              "          dataTable['output_type'] = 'display_data';\n",
              "          await google.colab.output.renderOutput(dataTable, element);\n",
              "          const docLink = document.createElement('div');\n",
              "          docLink.innerHTML = docLinkHtml;\n",
              "          element.appendChild(docLink);\n",
              "        }\n",
              "      </script>\n",
              "    </div>\n",
              "  </div>\n",
              "  "
            ],
            "text/plain": [
              "    complaint_type   descriptor\n",
              "0  PAINT - PLASTER      CEILING\n",
              "1  PAINT - PLASTER        WALLS\n",
              "2  PAINT - PLASTER      CEILING\n",
              "3         PLUMBING  WATER-LEAKS\n",
              "4         PLUMBING  WATER-LEAKS"
            ]
          },
          "execution_count": 10,
          "metadata": {},
          "output_type": "execute_result"
        }
      ],
      "source": [
        "filtered_df.head()"
      ]
    },
    {
      "cell_type": "code",
      "execution_count": null,
      "metadata": {
        "colab": {
          "base_uri": "https://localhost:8080/"
        },
        "id": "A9P2q2wQTVNv",
        "outputId": "1e3cbc42-2d4d-496c-a0c3-fcb2948e4986"
      },
      "outputs": [
        {
          "name": "stderr",
          "output_type": "stream",
          "text": [
            "/usr/local/lib/python3.7/dist-packages/ipykernel_launcher.py:2: SettingWithCopyWarning: \n",
            "A value is trying to be set on a copy of a slice from a DataFrame.\n",
            "Try using .loc[row_indexer,col_indexer] = value instead\n",
            "\n",
            "See the caveats in the documentation: https://pandas.pydata.org/pandas-docs/stable/user_guide/indexing.html#returning-a-view-versus-a-copy\n",
            "  \n"
          ]
        }
      ],
      "source": [
        "# Convering the column to string data type\n",
        "filtered_df['complaint_type'] = filtered_df['complaint_type'].str.upper()"
      ]
    },
    {
      "cell_type": "code",
      "execution_count": null,
      "metadata": {
        "colab": {
          "base_uri": "https://localhost:8080/"
        },
        "id": "7BTtcSX9bR-X",
        "outputId": "4823c5b4-548e-4d8d-9aa0-e310621044dd"
      },
      "outputs": [
        {
          "data": {
            "text/plain": [
              "0"
            ]
          },
          "execution_count": 17,
          "metadata": {},
          "output_type": "execute_result"
        }
      ],
      "source": [
        "# Checking for null values\n",
        "filtered_df['descriptor'].isna().sum()"
      ]
    },
    {
      "cell_type": "code",
      "execution_count": null,
      "metadata": {
        "colab": {
          "base_uri": "https://localhost:8080/"
        },
        "id": "vfW4IWijbR7O",
        "outputId": "0164e98f-3bf2-442a-ddcd-44d750882e71"
      },
      "outputs": [
        {
          "data": {
            "text/plain": [
              "25964"
            ]
          },
          "execution_count": 18,
          "metadata": {},
          "output_type": "execute_result"
        }
      ],
      "source": [
        "# Checking for empty strings count\n",
        "(filtered_df['descriptor'].values == '').sum() "
      ]
    },
    {
      "cell_type": "code",
      "execution_count": null,
      "metadata": {
        "colab": {
          "base_uri": "https://localhost:8080/"
        },
        "id": "b1OKsixBTiKd",
        "outputId": "c26436c9-75fd-4afb-8560-03a4f5dbf539"
      },
      "outputs": [
        {
          "name": "stderr",
          "output_type": "stream",
          "text": [
            "/usr/local/lib/python3.7/dist-packages/pandas/core/frame.py:4389: SettingWithCopyWarning: \n",
            "A value is trying to be set on a copy of a slice from a DataFrame\n",
            "\n",
            "See the caveats in the documentation: https://pandas.pydata.org/pandas-docs/stable/user_guide/indexing.html#returning-a-view-versus-a-copy\n",
            "  method=method,\n",
            "/usr/local/lib/python3.7/dist-packages/ipykernel_launcher.py:4: SettingWithCopyWarning: \n",
            "A value is trying to be set on a copy of a slice from a DataFrame\n",
            "\n",
            "See the caveats in the documentation: https://pandas.pydata.org/pandas-docs/stable/user_guide/indexing.html#returning-a-view-versus-a-copy\n",
            "  after removing the cwd from sys.path.\n"
          ]
        }
      ],
      "source": [
        "# drop rows with empty descriptions as these will not help us in model training\n",
        "nan_value = float(\"NaN\")\n",
        "filtered_df.replace(\"\", nan_value, inplace=True)\n",
        "filtered_df.dropna(subset = [\"descriptor\"], inplace=True)"
      ]
    },
    {
      "cell_type": "code",
      "execution_count": null,
      "metadata": {
        "colab": {
          "base_uri": "https://localhost:8080/"
        },
        "id": "YETpAkbQcGAc",
        "outputId": "b50bd86c-8b4e-4a96-82bb-3ad959f58e72"
      },
      "outputs": [
        {
          "data": {
            "text/plain": [
              "0"
            ]
          },
          "execution_count": 20,
          "metadata": {},
          "output_type": "execute_result"
        }
      ],
      "source": [
        "# Checking if we have successfully removed empty value rows\n",
        "(filtered_df['descriptor'].values == '').sum() "
      ]
    },
    {
      "cell_type": "markdown",
      "metadata": {
        "id": "UizACdF3eyeu"
      },
      "source": [
        "# Data Munging\n",
        "\n",
        "Identifying similar complaint types and merging"
      ]
    },
    {
      "cell_type": "code",
      "execution_count": null,
      "metadata": {
        "colab": {
          "base_uri": "https://localhost:8080/"
        },
        "id": "6vlqp_vRazk3",
        "outputId": "a76dec5f-8cd1-482b-c801-c6ca8f02246a"
      },
      "outputs": [
        {
          "data": {
            "text/plain": [
              "array(['PAINT - PLASTER', 'PLUMBING', 'HEATING', 'GENERAL CONSTRUCTION',\n",
              "       'NONCONST', 'ELECTRIC', 'APPLIANCE', 'NOISE - RESIDENTIAL',\n",
              "       'BLOCKED DRIVEWAY', 'NOISE - COMMERCIAL', 'CONSUMER COMPLAINT',\n",
              "       'MAINTENANCE OR FACILITY', 'EMERGENCY RESPONSE TEAM (ERT)',\n",
              "       'TAXI COMPLAINT', 'SNOW', 'TRAFFIC SIGNAL CONDITION', 'SEWER',\n",
              "       'SPECIAL PROJECTS INSPECTION TEAM (SPIT)', 'HAZARDOUS MATERIALS',\n",
              "       'NOISE', 'FOR HIRE VEHICLE COMPLAINT', 'HPD LITERATURE REQUEST',\n",
              "       'NOISE - STREET/SIDEWALK', 'WATER SYSTEM', 'STREET CONDITION',\n",
              "       'SANITATION CONDITION', 'RODENT', 'GENERAL CONSTRUCTION/PLUMBING',\n",
              "       'OTHER ENFORCEMENT', 'MISSED COLLECTION (ALL MATERIALS)',\n",
              "       'DIRTY CONDITIONS', 'NEW TREE REQUEST', 'AIR QUALITY',\n",
              "       'NOISE - VEHICLE', 'DOF PARKING - PAYMENT ISSUE',\n",
              "       'DOF PROPERTY - OWNER ISSUE', 'BUILDING/USE',\n",
              "       'NON-EMERGENCY POLICE MATTER', 'DERELICT VEHICLE',\n",
              "       'BROKEN MUNI METER', 'DAMAGED TREE',\n",
              "       'DHS ADVANTAGE -LANDLORD/BROKER', 'STREET SIGN - DANGLING',\n",
              "       'VENDING', 'FOOD POISONING', 'SCRIE',\n",
              "       'ROOT/SEWER/SIDEWALK CONDITION', 'STREET LIGHT CONDITION',\n",
              "       'HOMELESS ENCAMPMENT', 'LEAD', 'FOOD ESTABLISHMENT', 'GRAFFITI',\n",
              "       'ELEVATOR', 'HIGHWAY CONDITION', 'WATER CONSERVATION',\n",
              "       'DERELICT VEHICLES', 'STREET SIGN - MISSING',\n",
              "       'DHS ADVANTAGE - TENANT', 'UNSANITARY ANIMAL PVT PROPERTY',\n",
              "       'LITTER BASKET / REQUEST', 'DOF PROPERTY - PAYMENT ISSUE',\n",
              "       'INDOOR AIR QUALITY', 'SIDEWALK CONDITION', 'BROKEN PARKING METER',\n",
              "       'STREET SIGN - DAMAGED',\n",
              "       'DCA / DOH NEW LICENSE APPLICATION REQUEST', 'DEAD TREE',\n",
              "       'ASBESTOS', 'ILLEGAL TREE DAMAGE', 'BEST/SITE SAFETY',\n",
              "       'OVERGROWN TREE/BRANCHES', 'CURB CONDITION', 'VACANT LOT',\n",
              "       'VIOLATION OF PARK RULES', 'DOF PROPERTY - REQUEST COPY',\n",
              "       'ELECTRICAL', 'DOF PROPERTY - REDUCTION ISSUE', 'NOISE - PARK',\n",
              "       'WATER LEAK', 'DOOR/WINDOW', 'GENERAL', 'UNSANITARY CONDITION',\n",
              "       'ILLEGAL PARKING', 'HEAT/HOT WATER', 'FLOORING/STAIRS',\n",
              "       'PAINT/PLASTER', 'SAFETY', 'REQUEST LARGE BULKY ITEM COLLECTION',\n",
              "       'ELECTRONICS WASTE', 'HOUSING - LOW INCOME SENIOR', 'TRAFFIC',\n",
              "       'DEAD/DYING TREE', 'BENEFIT CARD REPLACEMENT',\n",
              "       'DOF PROPERTY - UPDATE ACCOUNT', 'ANIMAL ABUSE',\n",
              "       'CONSTRUCTION SAFETY ENFORCEMENT', 'STANDING WATER',\n",
              "       'HOMELESS PERSON ASSISTANCE', 'CONSTRUCTION'], dtype=object)"
            ]
          },
          "execution_count": 21,
          "metadata": {},
          "output_type": "execute_result"
        }
      ],
      "source": [
        "# Observing and combining similar complaint_type names\n",
        "filtered_df['complaint_type'].unique()"
      ]
    },
    {
      "cell_type": "markdown",
      "metadata": {
        "id": "WKNkqw9je6Ge"
      },
      "source": [
        "# Viewing sample similar complaint types"
      ]
    },
    {
      "cell_type": "code",
      "execution_count": null,
      "metadata": {
        "colab": {
          "base_uri": "https://localhost:8080/"
        },
        "id": "E-k33DWZfsKV",
        "outputId": "02833508-6716-4d41-c4c6-00eaac9829b5"
      },
      "outputs": [
        {
          "name": "stdout",
          "output_type": "stream",
          "text": [
            "      complaint_type                           descriptor\n",
            "8395      ELECTRICAL  Electrical Wiring Defective/Exposed\n",
            "8472      ELECTRICAL  Electrical Wiring Defective/Exposed\n",
            "8483      ELECTRICAL  Electrical Wiring Defective/Exposed\n",
            "8501      ELECTRICAL  Electrical Wiring Defective/Exposed\n",
            "8519      ELECTRICAL  Electrical Wiring Defective/Exposed\n",
            "8536      ELECTRICAL  Electrical Wiring Defective/Exposed\n",
            "8807      ELECTRICAL  Electrical Wiring Defective/Exposed\n",
            "8884      ELECTRICAL  Electrical Wiring Defective/Exposed\n",
            "10980     ELECTRICAL  Electrical Wiring Defective/Exposed\n",
            "11433     ELECTRICAL  Electrical Wiring Defective/Exposed\n"
          ]
        }
      ],
      "source": [
        "print(filtered_df.loc[filtered_df['complaint_type'] == 'ELECTRICAL'][:10])"
      ]
    },
    {
      "cell_type": "code",
      "execution_count": null,
      "metadata": {
        "colab": {
          "base_uri": "https://localhost:8080/"
        },
        "id": "X5SsqDfnftw_",
        "outputId": "6aa2502b-2060-4684-c0d9-e97936ce4a2b"
      },
      "outputs": [
        {
          "name": "stdout",
          "output_type": "stream",
          "text": [
            "    complaint_type            descriptor\n",
            "27        ELECTRIC       ELECTRIC-WIRING\n",
            "39        ELECTRIC  BELL-BUZZER/INTERCOM\n",
            "146       ELECTRIC  BELL-BUZZER/INTERCOM\n",
            "147       ELECTRIC       ELECTRIC-SUPPLY\n",
            "149       ELECTRIC              LIGHTING\n",
            "151       ELECTRIC       ELECTRIC-SUPPLY\n",
            "171       ELECTRIC       ELECTRIC-WIRING\n",
            "172       ELECTRIC       ELECTRIC-WIRING\n",
            "237       ELECTRIC              LIGHTING\n",
            "247       ELECTRIC       ELECTRIC-SUPPLY\n"
          ]
        }
      ],
      "source": [
        "print(filtered_df.loc[filtered_df['complaint_type'] == 'ELECTRIC'][:10])"
      ]
    },
    {
      "cell_type": "code",
      "execution_count": null,
      "metadata": {
        "colab": {
          "base_uri": "https://localhost:8080/"
        },
        "id": "YV1oSWUzgrLW",
        "outputId": "9bb6a062-7d80-4998-fce6-eafcfec2b3c2"
      },
      "outputs": [
        {
          "name": "stdout",
          "output_type": "stream",
          "text": [
            "                   complaint_type                     descriptor\n",
            "395    FOR HIRE VEHICLE COMPLAINT  Car Service Company Complaint\n",
            "396    FOR HIRE VEHICLE COMPLAINT  Car Service Company Complaint\n",
            "1634   FOR HIRE VEHICLE COMPLAINT  Car Service Company Complaint\n",
            "1692   FOR HIRE VEHICLE COMPLAINT  Car Service Company Complaint\n",
            "2100   FOR HIRE VEHICLE COMPLAINT               Driver Complaint\n",
            "4519   FOR HIRE VEHICLE COMPLAINT               Driver Complaint\n",
            "4704   FOR HIRE VEHICLE COMPLAINT               Driver Complaint\n",
            "8723   FOR HIRE VEHICLE COMPLAINT               Driver Complaint\n",
            "10993  FOR HIRE VEHICLE COMPLAINT  Car Service Company Complaint\n",
            "11860  FOR HIRE VEHICLE COMPLAINT               Driver Complaint\n"
          ]
        }
      ],
      "source": [
        "print(filtered_df.loc[filtered_df['complaint_type'] == 'FOR HIRE VEHICLE COMPLAINT'][:10])"
      ]
    },
    {
      "cell_type": "code",
      "execution_count": null,
      "metadata": {
        "colab": {
          "base_uri": "https://localhost:8080/"
        },
        "id": "Eu-C43L6hVJj",
        "outputId": "3f0dad24-0549-47b5-c233-101f04d9dc5f"
      },
      "outputs": [
        {
          "name": "stdout",
          "output_type": "stream",
          "text": [
            "     complaint_type        descriptor\n",
            "342  TAXI COMPLAINT  Driver Complaint\n",
            "365  TAXI COMPLAINT  Driver Complaint\n",
            "368  TAXI COMPLAINT  Driver Complaint\n",
            "379  TAXI COMPLAINT  Driver Complaint\n",
            "383  TAXI COMPLAINT  Driver Complaint\n",
            "387  TAXI COMPLAINT  Driver Complaint\n",
            "389  TAXI COMPLAINT  Driver Complaint\n",
            "391  TAXI COMPLAINT  Driver Complaint\n",
            "394  TAXI COMPLAINT  Driver Complaint\n",
            "417  TAXI COMPLAINT  Driver Complaint\n"
          ]
        }
      ],
      "source": [
        "print(filtered_df.loc[filtered_df['complaint_type'] == 'TAXI COMPLAINT'][:10])"
      ]
    },
    {
      "cell_type": "code",
      "execution_count": null,
      "metadata": {
        "colab": {
          "base_uri": "https://localhost:8080/"
        },
        "id": "KpmaQdD9hg2F",
        "outputId": "4c359327-6460-4eb7-ef44-aa027be06508"
      },
      "outputs": [
        {
          "name": "stdout",
          "output_type": "stream",
          "text": [
            "     complaint_type                                   descriptor\n",
            "476     AIR QUALITY        Air: Odor/Fumes, Vehicle Idling (AD3)\n",
            "539     AIR QUALITY        Air: Odor/Fumes, Vehicle Idling (AD3)\n",
            "578     AIR QUALITY                Air: Smoke, Residential (AA1)\n",
            "589     AIR QUALITY  Air: Other Air Problem (Use Comments) (AZZ)\n",
            "590     AIR QUALITY                Air: Smoke, Residential (AA1)\n",
            "592     AIR QUALITY                Air: Smoke, Residential (AA1)\n",
            "2123    AIR QUALITY            Air: Odor/Fumes, Restaurant (AD2)\n",
            "2124    AIR QUALITY                Air: Smoke, Residential (AA1)\n",
            "3851    AIR QUALITY            Air: Odor/Fumes, Restaurant (AD2)\n",
            "3948    AIR QUALITY        Air: Odor/Fumes, Vehicle Idling (AD3)\n"
          ]
        }
      ],
      "source": [
        "print(filtered_df.loc[filtered_df['complaint_type'] == 'AIR QUALITY'][:10])"
      ]
    },
    {
      "cell_type": "code",
      "execution_count": null,
      "metadata": {
        "colab": {
          "base_uri": "https://localhost:8080/"
        },
        "id": "gJ8orYARhtS2",
        "outputId": "2bc70f24-8dc9-4bf6-994c-b5fb7090f9c4"
      },
      "outputs": [
        {
          "name": "stdout",
          "output_type": "stream",
          "text": [
            "          complaint_type                   descriptor\n",
            "1948  INDOOR AIR QUALITY        Other (Explain Below)\n",
            "2089  INDOOR AIR QUALITY        Other (Explain Below)\n",
            "2426  INDOOR AIR QUALITY  Chemical Vapors/Gases/Odors\n",
            "3993  INDOOR AIR QUALITY        Other (Explain Below)\n",
            "4050  INDOOR AIR QUALITY        Other (Explain Below)\n",
            "4533  INDOOR AIR QUALITY        Other (Explain Below)\n",
            "4646  INDOOR AIR QUALITY                  Ventilation\n",
            "5696  INDOOR AIR QUALITY        Other (Explain Below)\n",
            "5763  INDOOR AIR QUALITY                  Ventilation\n",
            "5826  INDOOR AIR QUALITY  Chemical Vapors/Gases/Odors\n"
          ]
        }
      ],
      "source": [
        "print(filtered_df.loc[filtered_df['complaint_type'] == 'INDOOR AIR QUALITY'][:10])"
      ]
    },
    {
      "cell_type": "code",
      "execution_count": null,
      "metadata": {
        "colab": {
          "base_uri": "https://localhost:8080/"
        },
        "id": "o36vmto0ieNs",
        "outputId": "be6b096c-8f7b-4d28-a384-e17949fc5e58"
      },
      "outputs": [
        {
          "name": "stdout",
          "output_type": "stream",
          "text": [
            "      complaint_type          descriptor\n",
            "38546        GENERAL       JANITOR/SUPER\n",
            "38558        GENERAL  VENTILATION SYSTEM\n",
            "38646        GENERAL  VENTILATION SYSTEM\n",
            "38911        GENERAL         COOKING GAS\n",
            "38931        GENERAL  VENTILATION SYSTEM\n",
            "38987        GENERAL             CABINET\n",
            "38991        GENERAL         COOKING GAS\n",
            "39119        GENERAL             CABINET\n",
            "39150        GENERAL         COOKING GAS\n",
            "39218        GENERAL  VENTILATION SYSTEM\n"
          ]
        }
      ],
      "source": [
        "print(filtered_df.loc[filtered_df['complaint_type'] == 'GENERAL'][:10])"
      ]
    },
    {
      "cell_type": "markdown",
      "metadata": {
        "id": "bJMJ7hi3fEEW"
      },
      "source": [
        "I initially tried to create a dictionary for similar complaint types, but turned out that it would be an **expensive operation** to running a for **loop over all samples**.\n",
        "Hence below block of code is commented."
      ]
    },
    {
      "cell_type": "code",
      "execution_count": null,
      "metadata": {
        "id": "uVqws1YjdIeY"
      },
      "outputs": [],
      "source": [
        "# similar_complaint_types = dict()\n",
        "# similar_complaint_types['HEATING'] = ['HEATING', 'HEAT/HOT WATER']\n",
        "# similar_complaint_types['STREET CONDITION'] = ['STREET CONDITION', 'STREET LIGHT CONDITION', \n",
        "#                                      'SIDEWALK CONDITION', 'ROOT/SEWER/SIDEWALK CONDITION', 'STREET SIGN - MISSING', 'STREET SIGN - DANGLING']\n",
        "# similar_complaint_types['PLUMBING'] = ['PLUMBING', 'WATER SYSTEM', 'WATER LEAK', 'STANDING WATER']\n",
        "# similar_complaint_types['CONSTRUCTION'] = ['GENERAL CONSTRUCTION', 'GENERAL CONSTRUCTION/PLUMBING', 'CONSTRUCTION']\n",
        "# similar_complaint_types['SANITATION'] = ['UNSANITARY CONDITION', 'DIRTY CONDITIONS', 'SANITATION CONDITION']\n",
        "# similar_complaint_types['PAINT'] = ['PAINT - PLASTER', 'PAINT/PLASTER']\n",
        "# similar_complaint_types['TREE'] = ['DAMAGED TREE', 'NEW TREE REQUEST', 'OVERGROWN TREE/BRANCHES', 'DEAD TREE', 'DEAD/DYING TREE', 'ILLEGAL TREE DAMAGE']\n",
        "# similar_complaint_types['DERELICT VEHICLE'] = ['DERELICT VEHICLE', 'DERELICT VEHICLES']\n",
        "# similar_complaint_types['TRAFFIC'] = ['TRAFFIC' + 'TRAFFIC SIGNAL CONDITION']\n",
        "# similar_complaint_types['ELECTRICAL'] = ['ELECTRIC', 'ELECTRICAL']\n",
        "# similar_complaint_types['TAXI'] = ['TAXI COMPLAINT', 'FOR HIRE VEHICLE COMPLAINT']\n",
        "# similar_complaint_types['AIR QUALITY'] = ['AIR QUALITY', 'INDOOR AIR QUALITY']\n",
        "# similar_complaint_types['OTHER'] = ['NONCONST', 'GENERAL']"
      ]
    },
    {
      "cell_type": "markdown",
      "metadata": {
        "id": "sxn3u8ibfTnW"
      },
      "source": [
        "Discovered that the pandas **replace** method helps with this task, given the **dictionary** in a particular format, hence wrote the following block of code:"
      ]
    },
    {
      "cell_type": "code",
      "execution_count": null,
      "metadata": {
        "id": "cEgakZoNkmgW"
      },
      "outputs": [],
      "source": [
        "# Creating a dicitonary for associating similar complaint types, this will cut down on our classification labels and improve prediction accuracy\n",
        "\n",
        "similar_complaint_types = dict()\n",
        "\n",
        "# HEATING\n",
        "similar_complaint_types['HEAT/HOT WATER'] = 'HEATING'\n",
        "\n",
        "# STREET CONDITION\n",
        "similar_complaint_types['STREET LIGHT CONDITION'] = 'STREET CONDITION'\n",
        "similar_complaint_types['SIDEWALK CONDITION'] = 'STREET CONDITION'\n",
        "similar_complaint_types['ROOT/SEWER/SIDEWALK CONDITION'] = 'STREET CONDITION'\n",
        "similar_complaint_types['STREET SIGN - MISSING'] = 'STREET CONDITION'\n",
        "similar_complaint_types['STREET SIGN - DANGLING'] = 'STREET CONDITION'\n",
        "\n",
        "# PLUMBING\n",
        "similar_complaint_types['WATER SYSTEM'] = \"PLUMBING\"\n",
        "similar_complaint_types['WATER LEAK'] = \"PLUMBING\"\n",
        "similar_complaint_types['STANDING WATER'] = \"PLUMBING\"\n",
        "\n",
        "# CONSTRUCTION\n",
        "similar_complaint_types['GENERAL CONSTRUCTION'] = \"CONSTRUCTION\"\n",
        "similar_complaint_types['GENERAL CONSTRUCTION/PLUMBING'] = \"CONSTRUCTION\"\n",
        "\n",
        "# SANITATION\n",
        "similar_complaint_types['UNSANITARY CONDITION'] = \"SANITATION\"\n",
        "similar_complaint_types['DIRTY CONDITIONS'] = \"SANITATION\"\n",
        "similar_complaint_types['SANITATION CONDITION'] = \"SANITATION\"\n",
        "\n",
        "# PAINT\n",
        "similar_complaint_types['PAINT - PLASTER'] = \"PAINT\"\n",
        "similar_complaint_types['PAINT/PLASTER'] = \"PAINT\"\n",
        "\n",
        "# TREE\n",
        "similar_complaint_types['DAMAGED TREE'] = \"TREE\"\n",
        "similar_complaint_types['NEW TREE REQUEST'] = \"TREE\"\n",
        "similar_complaint_types['OVERGROWN TREE/BRANCHES'] = \"TREE\"\n",
        "similar_complaint_types['DEAD TREE'] = \"TREE\"\n",
        "similar_complaint_types['DEAD/DYING TREE'] = \"TREE\"\n",
        "similar_complaint_types['ILLEGAL TREE DAMAGE'] = \"TREE\"\n",
        "\n",
        "# DERELICT VEHICLES\n",
        "similar_complaint_types['DERELICT VEHICLES'] = \"DERELICT VEHICLE\"\n",
        "\n",
        "# TRAFFIC\n",
        "similar_complaint_types['TRAFFIC SIGNAL CONDITION'] = \"TRAFFIC\"\n",
        "\n",
        "# ELECTRICAL\n",
        "similar_complaint_types['ELECTRIC'] = \"ELECTRICAL\"\n",
        "\n",
        "# TAXI\n",
        "similar_complaint_types['TAXI COMPLAINT'] = \"TAXI\"\n",
        "similar_complaint_types['FOR HIRE VEHICLE COMPLAINT'] = \"TAXI\"\n",
        "\n",
        "# AIR QUALITY\n",
        "similar_complaint_types['INDOOR AIR QUALITY'] = \"AIR QUALITY\"\n",
        "\n",
        "# OTHER\n",
        "similar_complaint_types['NONCONST'] = \"OTHER\"\n",
        "similar_complaint_types['GENERAL'] = \"OTHER\""
      ]
    },
    {
      "cell_type": "code",
      "execution_count": null,
      "metadata": {
        "id": "SCjiiiyek6yw"
      },
      "outputs": [],
      "source": [
        "# replace function of pandas helps us to replace values with a dict\n",
        "df_merged = filtered_df.replace({\"complaint_type\": similar_complaint_types})"
      ]
    },
    {
      "cell_type": "code",
      "execution_count": null,
      "metadata": {
        "id": "3XwCeT-4nl0m"
      },
      "outputs": [],
      "source": [
        "# saving the newly created dataframe with merged fields\n",
        "df_merged.to_csv('merged_311.csv')"
      ]
    }
  ],
  "metadata": {
    "colab": {
      "collapsed_sections": [],
      "name": "Ezoic-Challenge-Two-Data-Filtering.ipynb",
      "provenance": []
    },
    "kernelspec": {
      "display_name": "Python 3",
      "name": "python3"
    },
    "language_info": {
      "name": "python"
    }
  },
  "nbformat": 4,
  "nbformat_minor": 0
}
