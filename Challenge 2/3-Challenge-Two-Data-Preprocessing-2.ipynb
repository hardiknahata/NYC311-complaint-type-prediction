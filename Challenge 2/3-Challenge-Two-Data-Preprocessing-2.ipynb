{
  "cells": [
    {
      "cell_type": "markdown",
      "source": [
        "## **Challenge Two: Build a Data Product**  "
      ],
      "metadata": {
        "id": "EmMgn5BRSg8w"
      }
    },
    {
      "cell_type": "markdown",
      "source": [
        "# Data Preprocessing - 2"
      ],
      "metadata": {
        "id": "qXLf19OQSjAf"
      }
    },
    {
      "cell_type": "code",
      "source": [
        "# !pip install nlpaug\n",
        "# !pip install transformers"
      ],
      "metadata": {
        "id": "H4mIoColz16O"
      },
      "execution_count": 1,
      "outputs": []
    },
    {
      "cell_type": "code",
      "source": [
        "# Imports required\n",
        "from tqdm import tqdm\n",
        "import pandas as pd\n",
        "import numpy as np\n",
        "import seaborn as sns\n",
        "import matplotlib.pyplot as plt\n",
        "import re\n",
        "import nltk\n",
        "from nltk.tokenize import word_tokenize\n",
        "from nltk.corpus import stopwords\n",
        "from nltk.stem.porter import PorterStemmer\n",
        "from sklearn import preprocessing\n",
        "import nlpaug.augmenter.char as nac\n",
        "import nlpaug.augmenter.word as naw\n",
        "import nlpaug.augmenter.sentence as nas\n",
        "import nlpaug.flow as nafc\n",
        "from nlpaug.util import Action"
      ],
      "metadata": {
        "id": "PTk4yvttw-lv"
      },
      "execution_count": 2,
      "outputs": []
    },
    {
      "cell_type": "code",
      "execution_count": 9,
      "metadata": {
        "colab": {
          "base_uri": "https://localhost:8080/"
        },
        "id": "Y26Ikcg3q4Rg",
        "outputId": "8a01348b-f9d2-4edd-98c4-b2f0706e6992"
      },
      "outputs": [
        {
          "output_type": "stream",
          "name": "stdout",
          "text": [
            "[nltk_data] Downloading package punkt to /root/nltk_data...\n",
            "[nltk_data]   Package punkt is already up-to-date!\n",
            "[nltk_data] Downloading package wordnet to /root/nltk_data...\n",
            "[nltk_data]   Package wordnet is already up-to-date!\n",
            "[nltk_data] Downloading package averaged_perceptron_tagger to\n",
            "[nltk_data]     /root/nltk_data...\n",
            "[nltk_data]   Unzipping taggers/averaged_perceptron_tagger.zip.\n"
          ]
        }
      ],
      "source": [
        "# Configuring import properties\n",
        "tqdm.pandas()\n",
        "pd.set_option(\"display.max_rows\", None, \"display.max_columns\", None)\n",
        "nltk.download('punkt')\n",
        "nltk.download('wordnet')\n",
        "nltk.download('averaged_perceptron_tagger')\n",
        "porter = PorterStemmer()\n",
        "stop_words = set(stopwords.words('english'))"
      ]
    },
    {
      "cell_type": "code",
      "execution_count": 35,
      "metadata": {
        "id": "iDdrNXD8q4TM"
      },
      "outputs": [],
      "source": [
        "df = pd.read_csv('nyc_311_imbalanced.csv', index_col=[0], usecols=[1,2])"
      ]
    },
    {
      "cell_type": "code",
      "source": [
        "df.head()"
      ],
      "metadata": {
        "colab": {
          "base_uri": "https://localhost:8080/",
          "height": 238
        },
        "id": "GPAQq8cA79Ji",
        "outputId": "8a942187-9700-4769-f472-5ff6249bfbbc"
      },
      "execution_count": 36,
      "outputs": [
        {
          "output_type": "execute_result",
          "data": {
            "text/html": [
              "\n",
              "  <div id=\"df-0413c7bf-0f15-4fa5-a223-1e33702436b0\">\n",
              "    <div class=\"colab-df-container\">\n",
              "      <div>\n",
              "<style scoped>\n",
              "    .dataframe tbody tr th:only-of-type {\n",
              "        vertical-align: middle;\n",
              "    }\n",
              "\n",
              "    .dataframe tbody tr th {\n",
              "        vertical-align: top;\n",
              "    }\n",
              "\n",
              "    .dataframe thead th {\n",
              "        text-align: right;\n",
              "    }\n",
              "</style>\n",
              "<table border=\"1\" class=\"dataframe\">\n",
              "  <thead>\n",
              "    <tr style=\"text-align: right;\">\n",
              "      <th></th>\n",
              "      <th>text</th>\n",
              "    </tr>\n",
              "    <tr>\n",
              "      <th>complaint_type</th>\n",
              "      <th></th>\n",
              "    </tr>\n",
              "  </thead>\n",
              "  <tbody>\n",
              "    <tr>\n",
              "      <th>PLUMBING</th>\n",
              "      <td>shower stall</td>\n",
              "    </tr>\n",
              "    <tr>\n",
              "      <th>CONSTRUCTION</th>\n",
              "      <td>locks</td>\n",
              "    </tr>\n",
              "    <tr>\n",
              "      <th>PLUMBING</th>\n",
              "      <td>bathtub</td>\n",
              "    </tr>\n",
              "    <tr>\n",
              "      <th>PLUMBING</th>\n",
              "      <td>water leaks</td>\n",
              "    </tr>\n",
              "    <tr>\n",
              "      <th>OTHER</th>\n",
              "      <td>rubbish</td>\n",
              "    </tr>\n",
              "  </tbody>\n",
              "</table>\n",
              "</div>\n",
              "      <button class=\"colab-df-convert\" onclick=\"convertToInteractive('df-0413c7bf-0f15-4fa5-a223-1e33702436b0')\"\n",
              "              title=\"Convert this dataframe to an interactive table.\"\n",
              "              style=\"display:none;\">\n",
              "        \n",
              "  <svg xmlns=\"http://www.w3.org/2000/svg\" height=\"24px\"viewBox=\"0 0 24 24\"\n",
              "       width=\"24px\">\n",
              "    <path d=\"M0 0h24v24H0V0z\" fill=\"none\"/>\n",
              "    <path d=\"M18.56 5.44l.94 2.06.94-2.06 2.06-.94-2.06-.94-.94-2.06-.94 2.06-2.06.94zm-11 1L8.5 8.5l.94-2.06 2.06-.94-2.06-.94L8.5 2.5l-.94 2.06-2.06.94zm10 10l.94 2.06.94-2.06 2.06-.94-2.06-.94-.94-2.06-.94 2.06-2.06.94z\"/><path d=\"M17.41 7.96l-1.37-1.37c-.4-.4-.92-.59-1.43-.59-.52 0-1.04.2-1.43.59L10.3 9.45l-7.72 7.72c-.78.78-.78 2.05 0 2.83L4 21.41c.39.39.9.59 1.41.59.51 0 1.02-.2 1.41-.59l7.78-7.78 2.81-2.81c.8-.78.8-2.07 0-2.86zM5.41 20L4 18.59l7.72-7.72 1.47 1.35L5.41 20z\"/>\n",
              "  </svg>\n",
              "      </button>\n",
              "      \n",
              "  <style>\n",
              "    .colab-df-container {\n",
              "      display:flex;\n",
              "      flex-wrap:wrap;\n",
              "      gap: 12px;\n",
              "    }\n",
              "\n",
              "    .colab-df-convert {\n",
              "      background-color: #E8F0FE;\n",
              "      border: none;\n",
              "      border-radius: 50%;\n",
              "      cursor: pointer;\n",
              "      display: none;\n",
              "      fill: #1967D2;\n",
              "      height: 32px;\n",
              "      padding: 0 0 0 0;\n",
              "      width: 32px;\n",
              "    }\n",
              "\n",
              "    .colab-df-convert:hover {\n",
              "      background-color: #E2EBFA;\n",
              "      box-shadow: 0px 1px 2px rgba(60, 64, 67, 0.3), 0px 1px 3px 1px rgba(60, 64, 67, 0.15);\n",
              "      fill: #174EA6;\n",
              "    }\n",
              "\n",
              "    [theme=dark] .colab-df-convert {\n",
              "      background-color: #3B4455;\n",
              "      fill: #D2E3FC;\n",
              "    }\n",
              "\n",
              "    [theme=dark] .colab-df-convert:hover {\n",
              "      background-color: #434B5C;\n",
              "      box-shadow: 0px 1px 3px 1px rgba(0, 0, 0, 0.15);\n",
              "      filter: drop-shadow(0px 1px 2px rgba(0, 0, 0, 0.3));\n",
              "      fill: #FFFFFF;\n",
              "    }\n",
              "  </style>\n",
              "\n",
              "      <script>\n",
              "        const buttonEl =\n",
              "          document.querySelector('#df-0413c7bf-0f15-4fa5-a223-1e33702436b0 button.colab-df-convert');\n",
              "        buttonEl.style.display =\n",
              "          google.colab.kernel.accessAllowed ? 'block' : 'none';\n",
              "\n",
              "        async function convertToInteractive(key) {\n",
              "          const element = document.querySelector('#df-0413c7bf-0f15-4fa5-a223-1e33702436b0');\n",
              "          const dataTable =\n",
              "            await google.colab.kernel.invokeFunction('convertToInteractive',\n",
              "                                                     [key], {});\n",
              "          if (!dataTable) return;\n",
              "\n",
              "          const docLinkHtml = 'Like what you see? Visit the ' +\n",
              "            '<a target=\"_blank\" href=https://colab.research.google.com/notebooks/data_table.ipynb>data table notebook</a>'\n",
              "            + ' to learn more about interactive tables.';\n",
              "          element.innerHTML = '';\n",
              "          dataTable['output_type'] = 'display_data';\n",
              "          await google.colab.output.renderOutput(dataTable, element);\n",
              "          const docLink = document.createElement('div');\n",
              "          docLink.innerHTML = docLinkHtml;\n",
              "          element.appendChild(docLink);\n",
              "        }\n",
              "      </script>\n",
              "    </div>\n",
              "  </div>\n",
              "  "
            ],
            "text/plain": [
              "                        text\n",
              "complaint_type              \n",
              "PLUMBING        shower stall\n",
              "CONSTRUCTION           locks\n",
              "PLUMBING             bathtub\n",
              "PLUMBING         water leaks\n",
              "OTHER                rubbish"
            ]
          },
          "metadata": {},
          "execution_count": 36
        }
      ]
    },
    {
      "cell_type": "code",
      "execution_count": 5,
      "metadata": {
        "colab": {
          "base_uri": "https://localhost:8080/",
          "height": 386
        },
        "id": "pUveI9vLq4TM",
        "outputId": "2f642786-e318-4418-beb5-9e479db42753"
      },
      "outputs": [
        {
          "output_type": "stream",
          "name": "stderr",
          "text": [
            "/usr/local/lib/python3.7/dist-packages/seaborn/_decorators.py:43: FutureWarning: Pass the following variables as keyword args: x, y. From version 0.12, the only valid positional argument will be `data`, and passing other arguments without an explicit keyword will result in an error or misinterpretation.\n",
            "  FutureWarning\n"
          ]
        },
        {
          "output_type": "execute_result",
          "data": {
            "text/plain": [
              "(array([ 0,  1,  2,  3,  4,  5,  6,  7,  8,  9, 10, 11, 12, 13, 14, 15, 16,\n",
              "        17, 18, 19, 20, 21, 22, 23, 24, 25]),\n",
              " <a list of 26 Text major ticklabel objects>)"
            ]
          },
          "metadata": {},
          "execution_count": 5
        },
        {
          "output_type": "display_data",
          "data": {
            "image/png": "[encoded data removed]",
            "text/plain": [
              "<Figure size 432x288 with 1 Axes>"
            ]
          },
          "metadata": {}
        }
      ],
      "source": [
        "complaint_counts = df['complaint_type'].value_counts(ascending = True)\n",
        "sns.barplot(complaint_counts.index, complaint_counts)\n",
        "plt.gca().set_ylabel('sample counts')\n",
        "plt.gca().set_xlabel('labels')\n",
        "plt.xticks(color=\"white\")"
      ]
    },
    {
      "cell_type": "markdown",
      "metadata": {
        "id": "54kFD-Arq4TN"
      },
      "source": [
        "From the above chart, we can clearly see that our dataset has high **Class Imbalance**.  \n",
        "\n",
        "Class imbalance is not a pleasant thing to have in a dataset, as it can influence our model to favour the classes with higher samples.  \n",
        "\n",
        "Hence, we will now fix the class imbalance."
      ]
    },
    {
      "cell_type": "markdown",
      "source": [
        "# Data Augmentation for Handling Class Imbalance\n",
        "\n",
        "Data augmentation is a useful technique to improve performance and outcomes of machine learning models.  \n",
        "It is done by oversampling the samples with low count, or undersampling the samples with high count."
      ],
      "metadata": {
        "id": "FyCxidRAx-VI"
      }
    },
    {
      "cell_type": "markdown",
      "source": [
        "I will use the **nlpaug** library to perform **oversampling** of data as we already have less data, and I don't want to lose more data by undersampling.  \n",
        "\n",
        "I am using different augmentation techniques for creating samples, the below defined class talks more about the methods."
      ],
      "metadata": {
        "id": "D37Dd8kN1voQ"
      }
    },
    {
      "cell_type": "code",
      "source": [
        "class NLPAugmentation:\n",
        "    def __init__(self):\n",
        "        # bert model for insertion of a relevant word in the text\n",
        "        self.model_bert_insert = naw.ContextualWordEmbsAug(model_path='bert-base-uncased', action=\"insert\")\n",
        "\n",
        "        # bert model for substituting a word with a synonym\n",
        "        self.model_bert_substitute = naw.ContextualWordEmbsAug(model_path='bert-base-uncased', action=\"substitute\")\n",
        "        \n",
        "        # distilbert model for insertion of a relevant word in the text\n",
        "        self.model_distilbert_insert = naw.ContextualWordEmbsAug(model_path='distilbert-base-uncased', action=\"insert\")\n",
        "        \n",
        "        # distilbert model for substituting a word with a synonym in the text\n",
        "        self.model_distilbert_substitute = naw.ContextualWordEmbsAug(model_path='distilbert-base-uncased', action=\"substitute\")\n",
        "        \n",
        "        # roberta model for substituting a word with a synonym in the text\n",
        "        self.model_roberta_substitute = naw.ContextualWordEmbsAug(model_path='roberta-base', action=\"substitute\")\n",
        "        \n",
        "        # wordnet for replacing synonymous words\n",
        "        self.model_wordnet = naw.SynonymAug(aug_src='wordnet')\n",
        "        \n",
        "        # random word replacement\n",
        "        self.model_random_word = naw.RandomWordAug(action=\"swap\")\n",
        "        \n",
        "        # model for language back-translation to reword the text - new popular technique \n",
        "        self.model_translation = naw.BackTranslationAug(from_model_name='facebook/wmt19-en-de', to_model_name='facebook/wmt19-de-en')\n",
        "\n",
        "\n",
        "    def get_augmented_samples(self, text):\n",
        "        augmented_samples = []\n",
        "\n",
        "        augmented_samples.append(self.model_bert_insert.augment(text))\n",
        "        augmented_samples.append(self.model_bert_substitute.augment(text))\n",
        "        augmented_samples.append(self.model_distilbert_insert.augment(text))\n",
        "        augmented_samples.append(self.model_distilbert_substitute.augment(text))\n",
        "        augmented_samples.append(self.model_roberta_substitute.augment(text))\n",
        "        augmented_samples.append(self.model_wordnet.augment(text))\n",
        "        augmented_samples.append(self.model_random_word.augment(text))\n",
        "        augmented_samples.append(self.model_translation.augment(text))\n",
        "\n",
        "        return augmented_samples\n",
        "\n",
        "aug = NLPAugmentation()\n",
        "\n",
        "# aug.get_augmented_samples(text)"
      ],
      "metadata": {
        "id": "L-ZwH2HFzgPx"
      },
      "execution_count": null,
      "outputs": []
    },
    {
      "cell_type": "markdown",
      "source": [
        "I have defined the augmentation class above, now I will generate augmented samples for the labels with less than 100 samples."
      ],
      "metadata": {
        "id": "DJhndATp26A9"
      }
    },
    {
      "cell_type": "code",
      "execution_count": 10,
      "metadata": {
        "id": "HnZboxprq4TO"
      },
      "outputs": [],
      "source": [
        "# number of different augmentation functions available in our Aug Class.\n",
        "num_aug_methods = 8\n",
        "\n",
        "# traversing over complaint_counts\n",
        "for complaint_type, count in complaint_counts.items():\n",
        "    \n",
        "    # creating a temporary df to store records of the selected complaint_type\n",
        "    df_temp = df[df['complaint_type'] == complaint_type]\n",
        "\n",
        "    # number of augmented samples required. \n",
        "    required_aug_count = min(100, count*num_aug_methods)\n",
        "\n",
        "    values = df_temp['text'].values\n",
        "    \n",
        "    # new augmented samples will be appended to new_samples list\n",
        "    new_samples = []\n",
        "    for text in values:    \n",
        "        augmented_samples = aug.get_augmented_samples(text)\n",
        "        new_samples = new_samples + augmented_samples\n",
        "        count = count + len(augmented_samples)\n",
        "\n",
        "        # if we have generated required number of samples, break the loop\n",
        "        if count >= required_aug_count:\n",
        "            break\n",
        "    \n",
        "    # Appending the newly generated samples to the original dataframe\n",
        "    for text in new_samples:\n",
        "        df = df.append({'complaint_type': complaint_type, 'text': text },ignore_index=True)"
      ]
    },
    {
      "cell_type": "code",
      "execution_count": 13,
      "metadata": {
        "id": "MkUZHJuqq4TQ"
      },
      "outputs": [],
      "source": [
        "# Random undersampling of labels with more than 110 samples\n",
        "for complaint_type, count in complaint_counts.items():\n",
        "    if count >= 110:\n",
        "        N = abs(100 - count)\n",
        "        df = df.drop(df[df['complaint_type'].eq(complaint_type)].sample(N).index)"
      ]
    },
    {
      "cell_type": "code",
      "execution_count": 15,
      "metadata": {
        "colab": {
          "base_uri": "https://localhost:8080/",
          "height": 386
        },
        "id": "h5LN4mtaq4TQ",
        "outputId": "adf69d0c-17b6-4754-90e2-b1793f22666a"
      },
      "outputs": [
        {
          "output_type": "stream",
          "name": "stderr",
          "text": [
            "/usr/local/lib/python3.7/dist-packages/seaborn/_decorators.py:43: FutureWarning: Pass the following variables as keyword args: x, y. From version 0.12, the only valid positional argument will be `data`, and passing other arguments without an explicit keyword will result in an error or misinterpretation.\n",
            "  FutureWarning\n"
          ]
        },
        {
          "output_type": "execute_result",
          "data": {
            "text/plain": [
              "(array([ 0,  1,  2,  3,  4,  5,  6,  7,  8,  9, 10, 11, 12, 13, 14, 15, 16,\n",
              "        17, 18, 19, 20, 21, 22, 23, 24, 25]),\n",
              " <a list of 26 Text major ticklabel objects>)"
            ]
          },
          "metadata": {},
          "execution_count": 15
        },
        {
          "output_type": "display_data",
          "data": {
            "image/png": "[encoded data removed]",
            "text/plain": [
              "<Figure size 432x288 with 1 Axes>"
            ]
          },
          "metadata": {}
        }
      ],
      "source": [
        "counts = df['complaint_type'].value_counts()\n",
        "sns.barplot(counts.index, counts)\n",
        "plt.gca().set_ylabel('sample counts')\n",
        "plt.gca().set_xlabel('labels')\n",
        "plt.xticks(color=\"white\")"
      ]
    },
    {
      "cell_type": "markdown",
      "metadata": {
        "id": "4jLdOlWxq4TQ"
      },
      "source": [
        "From the above visualization we can see that all the classes are now balanced."
      ]
    },
    {
      "cell_type": "code",
      "source": [
        "# Function to preprocess text\n",
        "\n",
        "def preprocess_text(text):\n",
        "    \n",
        "    cleaned_text = text.replace(\"/\", \" \")\n",
        "    \n",
        "    cleaned_text = cleaned_text.replace(\",\", \"\")\n",
        "    \n",
        "    cleaned_text = cleaned_text.replace(\"-\", \" \")\n",
        "    \n",
        "    # Removes all characters present between brackets including the brackets\n",
        "    cleaned_text = re.sub(\"[\\(\\[].*?[\\)\\]]\", \"\", cleaned_text)\n",
        "    \n",
        "    cleaned_text = re.sub(r'\\w*\\d\\w*', '', cleaned_text)\n",
        "    \n",
        "    # tokenize the string\n",
        "    tokens = word_tokenize(cleaned_text)\n",
        "\n",
        "    # remove punctuation\n",
        "    words = [word for word in tokens if word.isalpha()]\n",
        "\n",
        "    # remove stop words\n",
        "    words = [w for w in words if not w in stop_words]\n",
        "    \n",
        "    # join words to form a string\n",
        "    cleaned_text = ' '.join(words)\n",
        "    \n",
        "    # remove extra spaces\n",
        "    cleaned_text = cleaned_text.strip()\n",
        "    \n",
        "    return cleaned_text"
      ],
      "metadata": {
        "id": "fvxwIQWi7Tf8"
      },
      "execution_count": 16,
      "outputs": []
    },
    {
      "cell_type": "code",
      "execution_count": null,
      "metadata": {
        "id": "KEdDZc53q4TR",
        "outputId": "c40b4be2-f775-4719-8dcb-2d2a7e9a785e"
      },
      "outputs": [
        {
          "name": "stderr",
          "output_type": "stream",
          "text": [
            "100%|██████████| 2597/2597 [00:00<00:00, 9361.38it/s]\n"
          ]
        }
      ],
      "source": [
        "# recleaning data after augmentation\n",
        "df['text'] = df['text'].progress_apply(preprocess_text)\n",
        "\n",
        "# drop na values\n",
        "df = df.dropna(axis=0, how='any')\n",
        "\n",
        "# Removing rows which have empty complaint descriptions\n",
        "df = df[df.text != '']"
      ]
    },
    {
      "cell_type": "markdown",
      "source": [
        "# Label Encoding"
      ],
      "metadata": {
        "id": "iC5TYLcy8-Oq"
      }
    },
    {
      "cell_type": "code",
      "execution_count": null,
      "metadata": {
        "id": "afVVPUnWq4TR"
      },
      "outputs": [],
      "source": [
        "# Using sklearn LabelEndoder to encode numeric labels for complaint_types which is our target variable\n",
        "\n",
        "le = preprocessing.LabelEncoder()\n",
        "le.fit(df.complaint_type)\n",
        "df['labels'] = le.transform(df.complaint_type)"
      ]
    },
    {
      "cell_type": "code",
      "execution_count": null,
      "metadata": {
        "id": "fFU60JEkq4TR",
        "outputId": "e39e975e-2a80-442a-fffa-068a1bb2e0d2"
      },
      "outputs": [
        {
          "data": {
            "text/html": [
              "<div>\n",
              "<style scoped>\n",
              "    .dataframe tbody tr th:only-of-type {\n",
              "        vertical-align: middle;\n",
              "    }\n",
              "\n",
              "    .dataframe tbody tr th {\n",
              "        vertical-align: top;\n",
              "    }\n",
              "\n",
              "    .dataframe thead th {\n",
              "        text-align: right;\n",
              "    }\n",
              "</style>\n",
              "<table border=\"1\" class=\"dataframe\">\n",
              "  <thead>\n",
              "    <tr style=\"text-align: right;\">\n",
              "      <th></th>\n",
              "      <th>complaint_type</th>\n",
              "      <th>text</th>\n",
              "      <th>labels</th>\n",
              "    </tr>\n",
              "  </thead>\n",
              "  <tbody>\n",
              "    <tr>\n",
              "      <th>0</th>\n",
              "      <td>PLUMBING</td>\n",
              "      <td>shower stall</td>\n",
              "      <td>17</td>\n",
              "    </tr>\n",
              "    <tr>\n",
              "      <th>1</th>\n",
              "      <td>CONSTRUCTION</td>\n",
              "      <td>locks</td>\n",
              "      <td>1</td>\n",
              "    </tr>\n",
              "    <tr>\n",
              "      <th>2</th>\n",
              "      <td>PLUMBING</td>\n",
              "      <td>bathtub</td>\n",
              "      <td>17</td>\n",
              "    </tr>\n",
              "    <tr>\n",
              "      <th>3</th>\n",
              "      <td>PLUMBING</td>\n",
              "      <td>water leaks</td>\n",
              "      <td>17</td>\n",
              "    </tr>\n",
              "    <tr>\n",
              "      <th>4</th>\n",
              "      <td>OTHER</td>\n",
              "      <td>rubbish</td>\n",
              "      <td>16</td>\n",
              "    </tr>\n",
              "  </tbody>\n",
              "</table>\n",
              "</div>"
            ],
            "text/plain": [
              "  complaint_type          text  labels\n",
              "0       PLUMBING  shower stall      17\n",
              "1   CONSTRUCTION         locks       1\n",
              "2       PLUMBING       bathtub      17\n",
              "3       PLUMBING   water leaks      17\n",
              "4          OTHER       rubbish      16"
            ]
          },
          "execution_count": 168,
          "metadata": {},
          "output_type": "execute_result"
        }
      ],
      "source": [
        "df.head()"
      ]
    },
    {
      "cell_type": "code",
      "execution_count": null,
      "metadata": {
        "id": "6XZFAUU4q4TR"
      },
      "outputs": [],
      "source": [
        ""
      ]
    },
    {
      "cell_type": "code",
      "execution_count": null,
      "metadata": {
        "id": "u61jg1kdq4TS"
      },
      "outputs": [],
      "source": [
        "# saving the class balanced dataframe\n",
        "df.to_csv('nyc_311_balanced.csv')"
      ]
    },
    {
      "cell_type": "code",
      "execution_count": null,
      "metadata": {
        "id": "JRi6XPV3q4TS"
      },
      "outputs": [],
      "source": [
        "# saving the dataframe for AutoNLP HuggingFace Training\n",
        "\n",
        "df_hf = df.rename(columns={'complaint_type': 'target'})\n",
        "del df_hf['labels']\n",
        "df_hf.to_csv('hf_nyc_311_balanced.csv')"
      ]
    },
    {
      "cell_type": "code",
      "execution_count": null,
      "metadata": {
        "id": "IPU13v9oq4TS"
      },
      "outputs": [],
      "source": [
        ""
      ]
    },
    {
      "cell_type": "markdown",
      "source": [
        "\n",
        "\n",
        "---\n",
        "\n",
        "*** END OF NOTEBOOK ***"
      ],
      "metadata": {
        "id": "_sX7A_qe9cRx"
      }
    },
    {
      "cell_type": "code",
      "execution_count": null,
      "metadata": {
        "id": "25ztmUtnq4TS"
      },
      "outputs": [],
      "source": [
        ""
      ]
    },
    {
      "cell_type": "markdown",
      "source": [
        "# Examples of augmented text from nlpaug"
      ],
      "metadata": {
        "id": "ksSq1kNO9hyi"
      }
    },
    {
      "cell_type": "code",
      "execution_count": 38,
      "metadata": {
        "id": "gJJAqn1Tq4TT"
      },
      "outputs": [],
      "source": [
        "text = \"The quick brown fox jumps over the lazy dog .\""
      ]
    },
    {
      "cell_type": "code",
      "execution_count": 41,
      "metadata": {
        "colab": {
          "base_uri": "https://localhost:8080/"
        },
        "id": "zMlpMrp5q4TT",
        "outputId": "f7e921df-048a-4a00-e8b7-40a8f272368d"
      },
      "outputs": [
        {
          "output_type": "stream",
          "name": "stdout",
          "text": [
            "ORIGINAL TEXT: The quick brown fox jumps over the lazy dog .\n",
            "\n",
            "AUGMENTED SAMPLES:-\n",
            "\n",
            "when the quick brown blue fox jumps over the lazy white dog.\n",
            "the quick cut fox jumps after the wet dog.\n",
            "even the quick brown fox jumps over with the adorable lazy dog.\n",
            "the orphaned brown fox jumps among her lazy dog.\n",
            "The quick brown girl jumps onto her lazy dog.\n",
            "The nimble brown fox jump over the work shy dog.\n",
            "Brown the quick fox jumps over lazy the dog.\n",
            "The speedy brown fox jumps over the lazy dog.\n"
          ]
        }
      ],
      "source": [
        "augmented_samples = aug.get_augmented_samples(text)\n",
        "print(f\"ORIGINAL TEXT: {text}\\n\")\n",
        "print(f\"AUGMENTED SAMPLES:-\\n\")\n",
        "for sample in augmented_samples:\n",
        "  print(sample)"
      ]
    },
    {
      "cell_type": "code",
      "execution_count": 42,
      "metadata": {
        "colab": {
          "base_uri": "https://localhost:8080/"
        },
        "id": "AqvnPVzzq4TZ",
        "outputId": "b56bf2ae-5dbb-4cc2-a4cf-d723da3c29e7"
      },
      "outputs": [
        {
          "output_type": "stream",
          "name": "stdout",
          "text": [
            "ORIGINAL TEXT: New York is the city that never sleeps\n",
            "\n",
            "AUGMENTED SAMPLES:-\n",
            "\n",
            "now new nueva york is the city that that never sleeps\n",
            "new york cities and town that never sleeps\n",
            "new middle york is the newest city bar that never sleeps\n",
            "new york … our city where never sleeps\n",
            "New York and the state that ever sleeps\n",
            "New House of york comprise the city that never slumber\n",
            "York new the is city that sleeps never\n",
            "New York is the city that never sleeps\n"
          ]
        }
      ],
      "source": [
        "text = \"New York is the city that never sleeps\"\n",
        "\n",
        "augmented_samples = aug.get_augmented_samples(text)\n",
        "print(f\"ORIGINAL TEXT: {text}\\n\")\n",
        "print(f\"AUGMENTED SAMPLES:-\\n\")\n",
        "for sample in augmented_samples:\n",
        "  print(sample)"
      ]
    }
  ],
  "metadata": {
    "kernelspec": {
      "display_name": "Python 3",
      "language": "python",
      "name": "python3"
    },
    "language_info": {
      "codemirror_mode": {
        "name": "ipython",
        "version": 3
      },
      "file_extension": ".py",
      "mimetype": "text/x-python",
      "name": "python",
      "nbconvert_exporter": "python",
      "pygments_lexer": "ipython3",
      "version": "3.7.6"
    },
    "colab": {
      "name": "Ezoic-Challenge-Two-Data-Preprocessing-2.ipynb",
      "provenance": [],
      "collapsed_sections": []
    }
  },
  "nbformat": 4,
  "nbformat_minor": 0
}